{
 "cells": [
  {
   "cell_type": "code",
   "execution_count": 2,
   "metadata": {},
   "outputs": [],
   "source": [
    "import pandas as pd\n",
    "import numpy as np\n",
    "from sklearn.model_selection import train_test_split\n",
    "from sklearn.svm import SVC\n",
    "from sklearn.metrics import accuracy_score,precision_score, recall_score\n",
    "from sklearn.ensemble import RandomForestClassifier\n",
    "\n",
    "from sklearn.model_selection import GridSearchCV\n",
    "from sklearn.model_selection import RandomizedSearchCV"
   ]
  },
  {
   "cell_type": "code",
   "execution_count": 3,
   "metadata": {},
   "outputs": [],
   "source": [
    "weather_df = pd.read_csv('../data/internal/weather.csv')"
   ]
  },
  {
   "cell_type": "code",
   "execution_count": 4,
   "metadata": {},
   "outputs": [],
   "source": [
    "weather_df = weather_df.drop(\"Country\", axis='columns')\n",
    "weather_df = weather_df.drop(\"Name\", axis='columns')"
   ]
  },
  {
   "cell_type": "code",
   "execution_count": 5,
   "metadata": {},
   "outputs": [
    {
     "data": {
      "text/plain": [
       "array(['Clear', 'Haze', 'Mist', 'Clouds', 'Snow', 'Thunderstorm', 'Rain',\n",
       "       'Drizzle', 'Fog', 'Smoke'], dtype=object)"
      ]
     },
     "execution_count": 5,
     "metadata": {},
     "output_type": "execute_result"
    }
   ],
   "source": [
    "weather_df[\"Weather\"].unique()"
   ]
  },
  {
   "cell_type": "code",
   "execution_count": 6,
   "metadata": {},
   "outputs": [
    {
     "data": {
      "text/html": [
       "<div>\n",
       "<style scoped>\n",
       "    .dataframe tbody tr th:only-of-type {\n",
       "        vertical-align: middle;\n",
       "    }\n",
       "\n",
       "    .dataframe tbody tr th {\n",
       "        vertical-align: top;\n",
       "    }\n",
       "\n",
       "    .dataframe thead th {\n",
       "        text-align: right;\n",
       "    }\n",
       "</style>\n",
       "<table border=\"1\" class=\"dataframe\">\n",
       "  <thead>\n",
       "    <tr style=\"text-align: right;\">\n",
       "      <th></th>\n",
       "      <th>Weather</th>\n",
       "      <th>Temp</th>\n",
       "      <th>Humidity</th>\n",
       "      <th>Visibility</th>\n",
       "      <th>Wind speed</th>\n",
       "      <th>Clouds</th>\n",
       "    </tr>\n",
       "  </thead>\n",
       "  <tbody>\n",
       "    <tr>\n",
       "      <th>0</th>\n",
       "      <td>Clear</td>\n",
       "      <td>280.77</td>\n",
       "      <td>57</td>\n",
       "      <td>10000</td>\n",
       "      <td>3.60</td>\n",
       "      <td>0</td>\n",
       "    </tr>\n",
       "    <tr>\n",
       "      <th>1</th>\n",
       "      <td>Haze</td>\n",
       "      <td>298.99</td>\n",
       "      <td>83</td>\n",
       "      <td>6000</td>\n",
       "      <td>2.06</td>\n",
       "      <td>20</td>\n",
       "    </tr>\n",
       "    <tr>\n",
       "      <th>2</th>\n",
       "      <td>Mist</td>\n",
       "      <td>293.25</td>\n",
       "      <td>83</td>\n",
       "      <td>1500</td>\n",
       "      <td>0.00</td>\n",
       "      <td>0</td>\n",
       "    </tr>\n",
       "    <tr>\n",
       "      <th>3</th>\n",
       "      <td>Clouds</td>\n",
       "      <td>288.07</td>\n",
       "      <td>47</td>\n",
       "      <td>10000</td>\n",
       "      <td>5.16</td>\n",
       "      <td>27</td>\n",
       "    </tr>\n",
       "    <tr>\n",
       "      <th>4</th>\n",
       "      <td>Mist</td>\n",
       "      <td>300.18</td>\n",
       "      <td>83</td>\n",
       "      <td>2200</td>\n",
       "      <td>3.09</td>\n",
       "      <td>20</td>\n",
       "    </tr>\n",
       "    <tr>\n",
       "      <th>...</th>\n",
       "      <td>...</td>\n",
       "      <td>...</td>\n",
       "      <td>...</td>\n",
       "      <td>...</td>\n",
       "      <td>...</td>\n",
       "      <td>...</td>\n",
       "    </tr>\n",
       "    <tr>\n",
       "      <th>3503</th>\n",
       "      <td>Clouds</td>\n",
       "      <td>280.24</td>\n",
       "      <td>50</td>\n",
       "      <td>10000</td>\n",
       "      <td>2.68</td>\n",
       "      <td>19</td>\n",
       "    </tr>\n",
       "    <tr>\n",
       "      <th>3504</th>\n",
       "      <td>Clear</td>\n",
       "      <td>285.26</td>\n",
       "      <td>56</td>\n",
       "      <td>10000</td>\n",
       "      <td>4.12</td>\n",
       "      <td>0</td>\n",
       "    </tr>\n",
       "    <tr>\n",
       "      <th>3505</th>\n",
       "      <td>Clouds</td>\n",
       "      <td>297.75</td>\n",
       "      <td>66</td>\n",
       "      <td>10000</td>\n",
       "      <td>1.02</td>\n",
       "      <td>56</td>\n",
       "    </tr>\n",
       "    <tr>\n",
       "      <th>3506</th>\n",
       "      <td>Clear</td>\n",
       "      <td>297.39</td>\n",
       "      <td>70</td>\n",
       "      <td>10000</td>\n",
       "      <td>3.74</td>\n",
       "      <td>6</td>\n",
       "    </tr>\n",
       "    <tr>\n",
       "      <th>3507</th>\n",
       "      <td>Clear</td>\n",
       "      <td>288.66</td>\n",
       "      <td>77</td>\n",
       "      <td>10000</td>\n",
       "      <td>1.50</td>\n",
       "      <td>0</td>\n",
       "    </tr>\n",
       "  </tbody>\n",
       "</table>\n",
       "<p>3508 rows × 6 columns</p>\n",
       "</div>"
      ],
      "text/plain": [
       "     Weather    Temp  Humidity  Visibility  Wind speed  Clouds\n",
       "0      Clear  280.77        57       10000        3.60       0\n",
       "1       Haze  298.99        83        6000        2.06      20\n",
       "2       Mist  293.25        83        1500        0.00       0\n",
       "3     Clouds  288.07        47       10000        5.16      27\n",
       "4       Mist  300.18        83        2200        3.09      20\n",
       "...      ...     ...       ...         ...         ...     ...\n",
       "3503  Clouds  280.24        50       10000        2.68      19\n",
       "3504   Clear  285.26        56       10000        4.12       0\n",
       "3505  Clouds  297.75        66       10000        1.02      56\n",
       "3506   Clear  297.39        70       10000        3.74       6\n",
       "3507   Clear  288.66        77       10000        1.50       0\n",
       "\n",
       "[3508 rows x 6 columns]"
      ]
     },
     "execution_count": 6,
     "metadata": {},
     "output_type": "execute_result"
    }
   ],
   "source": [
    "weather_df"
   ]
  },
  {
   "cell_type": "code",
   "execution_count": 7,
   "metadata": {},
   "outputs": [
    {
     "name": "stdout",
     "output_type": "stream",
     "text": [
      "Precision: 90.50%\n",
      "Accuracy: 91.03%\n",
      "Recall: 91.03%\n"
     ]
    }
   ],
   "source": [
    "# Thay đổi nhãn của các loại thời tiết không thuộc Clear hoặc Clouds thành 'Thời tiết xấu'\n",
    "weather_df['Weather'] = weather_df['Weather'].replace(['Haze', 'Mist', 'Snow', 'Thunderstorm', 'Rain', 'Drizzle', 'Fog', 'Smoke'], 'Poor weather')\n",
    "\n",
    "# Lấy các feature và nhãn đã chỉnh sửa\n",
    "features = weather_df[['Temp', 'Humidity', 'Visibility', 'Wind speed', 'Clouds']]\n",
    "labels = weather_df['Weather']\n",
    "\n",
    "# Chia dữ liệu thành tập huấn luyện và tập kiểm tra\n",
    "X_train, X_test, y_train, y_test = train_test_split(features, labels, test_size=0.2, random_state=42)\n",
    "\n",
    "# Tạo mô hình Random Forest và huấn luyện nó\n",
    "rf_model = RandomForestClassifier(n_estimators=100, random_state=42)  # Số cây quyết định = 100\n",
    "rf_model.fit(X_train, y_train)\n",
    "\n",
    "# Dự đoán trên tập kiểm tra\n",
    "predictions = rf_model.predict(X_test)\n",
    "\n",
    "# Đánh giá mô hình\n",
    "precision = precision_score(y_test, predictions, average='weighted')\n",
    "accuracy = accuracy_score(y_test, predictions)\n",
    "recall = recall_score(y_test, predictions, average='weighted')\n",
    "print(f'Precision: {precision * 100:.2f}%')\n",
    "print(f'Accuracy: {accuracy * 100:.2f}%')\n",
    "print(f'Recall: {recall * 100:.2f}%')"
   ]
  },
  {
   "cell_type": "markdown",
   "metadata": {},
   "source": [
    "### GridSearchCV (Grid Search Cross-Validation): \n",
    "- Is a technique used for hyperparameter tuning in machine learning. The goal of hyperparameter tuning is to find the best set of hyperparameters for a machine learning model, which results in the optimal performance on a specific task or dataset.\n",
    "\n",
    "sklearn.model_selection.GridSearchCV(estimator, param_grid, *, scoring=None, n_jobs=None, refit=True, cv=None, verbose=0, pre_dispatch='2*n_jobs', error_score=nan, return_train_score=False)"
   ]
  },
  {
   "cell_type": "code",
   "execution_count": 14,
   "metadata": {},
   "outputs": [
    {
     "name": "stdout",
     "output_type": "stream",
     "text": [
      "Best Hyperparameters: {'class_weight': None, 'max_depth': 10, 'min_samples_leaf': 2, 'min_samples_split': 5, 'n_estimators': 200}\n",
      "Best Precision: 90.85%\n",
      "Best Accuracy: 91.31%\n",
      "Best Recall: 91.31%\n"
     ]
    }
   ],
   "source": [
    "# Thay đổi nhãn của các loại thời tiết không thuộc Clear hoặc Clouds thành 'Thời tiết xấu'\n",
    "weather_df['Weather'] = weather_df['Weather'].replace(['Haze', 'Mist', 'Snow', 'Thunderstorm', 'Rain', 'Drizzle', 'Fog', 'Smoke'], 'Poor weather')\n",
    "\n",
    "# Lấy các feature và nhãn đã chỉnh sửa\n",
    "features = weather_df[['Temp', 'Humidity', 'Visibility', 'Wind speed', 'Clouds']]\n",
    "labels = weather_df['Weather']\n",
    "\n",
    "# Chia dữ liệu thành tập huấn luyện và tập kiểm tra\n",
    "X_train, X_test, y_train, y_test = train_test_split(features, labels, test_size=0.2, random_state=42)\n",
    "\n",
    "# Define the hyperparameter grid\n",
    "param_grid = {\n",
    "    'n_estimators': [50, 100, 200],\n",
    "    'max_depth': [None, 10, 20, 30],\n",
    "    'min_samples_split': [2, 5, 10],\n",
    "    'min_samples_leaf': [1, 2, 4],\n",
    "    'class_weight': ['balanced', 'balanced_subsample', None]\n",
    "}\n",
    "\n",
    "# Create the Random Forest classifier\n",
    "rf_model = RandomForestClassifier(random_state=42)\n",
    "\n",
    "# Create GridSearchCV object\n",
    "grid_search = GridSearchCV(rf_model, param_grid, cv=5, scoring='accuracy')\n",
    "\n",
    "# Fit the grid search to the data\n",
    "grid_search.fit(X_train, y_train)\n",
    "\n",
    "# Print the best hyperparameters\n",
    "best_params = grid_search.best_params_\n",
    "print(f'Best Hyperparameters: {best_params}')\n",
    "\n",
    "# Get the best model\n",
    "best_rf_model = grid_search.best_estimator_\n",
    "\n",
    "# Make predictions on the test set using the best model\n",
    "best_predictions = best_rf_model.predict(X_test)\n",
    "\n",
    "# Evaluate the best model\n",
    "best_precision = precision_score(y_test, best_predictions, average='weighted')\n",
    "best_accuracy = accuracy_score(y_test, best_predictions)\n",
    "best_recall = recall_score(y_test, best_predictions, average='weighted')\n",
    "\n",
    "print(f'Best Precision: {best_precision * 100:.2f}%')\n",
    "print(f'Best Accuracy: {best_accuracy * 100:.2f}%')\n",
    "print(f'Best Recall: {best_recall * 100:.2f}%')"
   ]
  },
  {
   "cell_type": "markdown",
   "metadata": {},
   "source": [
    "### RandomSearchCV (Random Search Cross-Validation): \n",
    "-  This method works by randomly sampling hyperparameter combinations from a specified distribution and evaluating the model's performance with each set of hyperparameters. This process is repeated multiple times, and the best-performing hyperparameters are selected as the optimal ones.\n",
    "\n",
    "sklearn.model_selection.RandomizedSearchCV(estimator, param_distributions, *, n_iter=10, scoring=None, n_jobs=None, refit=True, cv=None, verbose=0, pre_dispatch='2*n_jobs', random_state=None, error_score=nan, return_train_score=False)"
   ]
  },
  {
   "cell_type": "code",
   "execution_count": 10,
   "metadata": {},
   "outputs": [
    {
     "name": "stdout",
     "output_type": "stream",
     "text": [
      "Best Hyperparameters: {'n_estimators': 200, 'min_samples_split': 5, 'min_samples_leaf': 4, 'max_depth': 10, 'class_weight': None}\n",
      "Best Precision: 90.17%\n",
      "Best Accuracy: 90.74%\n",
      "Best Recall: 90.74%\n"
     ]
    }
   ],
   "source": [
    "# Thay đổi nhãn của các loại thời tiết không thuộc Clear hoặc Clouds thành 'Thời tiết xấu'\n",
    "weather_df['Weather'] = weather_df['Weather'].replace(['Haze', 'Mist', 'Snow', 'Thunderstorm', 'Rain', 'Drizzle', 'Fog', 'Smoke'], 'Poor weather')\n",
    "\n",
    "# Lấy các feature và nhãn đã chỉnh sửa\n",
    "features = weather_df[['Temp', 'Humidity', 'Visibility', 'Wind speed', 'Clouds']]\n",
    "labels = weather_df['Weather']\n",
    "\n",
    "# Chia dữ liệu thành tập huấn luyện và tập kiểm tra\n",
    "X_train, X_test, y_train, y_test = train_test_split(features, labels, test_size=0.2, random_state=42)\n",
    "\n",
    "# Define the hyperparameter grid for RandomizedSearchCV\n",
    "param_dist = {\n",
    "    'n_estimators': [50, 100, 200],\n",
    "    'max_depth': [None, 10, 20, 30],\n",
    "    'min_samples_split': [2, 5, 10],\n",
    "    'min_samples_leaf': [1, 2, 4],\n",
    "    'class_weight': ['balanced', 'balanced_subsample', None]\n",
    "}\n",
    "\n",
    "# Create the Random Forest classifier\n",
    "rf_model = RandomForestClassifier(random_state=42)\n",
    "\n",
    "# Create RandomizedSearchCV object\n",
    "random_search = RandomizedSearchCV(rf_model, param_distributions=param_dist, n_iter=10, cv=5, scoring='accuracy', random_state=42)\n",
    "random_search.fit(X_train, y_train)\n",
    "\n",
    "# Print the best hyperparameters\n",
    "best_params = random_search.best_params_\n",
    "print(f'Best Hyperparameters: {best_params}')\n",
    "\n",
    "# Get the best model\n",
    "best_rf_model = random_search.best_estimator_\n",
    "\n",
    "# Make predictions on the test set using the best model\n",
    "best_predictions = best_rf_model.predict(X_test)\n",
    "\n",
    "# Evaluate the best model\n",
    "best_precision = precision_score(y_test, best_predictions, average='weighted')\n",
    "best_accuracy = accuracy_score(y_test, best_predictions)\n",
    "best_recall = recall_score(y_test, best_predictions, average='weighted')\n",
    "\n",
    "print(f'Best Precision: {best_precision * 100:.2f}%')\n",
    "print(f'Best Accuracy: {best_accuracy * 100:.2f}%')\n",
    "print(f'Best Recall: {best_recall * 100:.2f}%')\n"
   ]
  },
  {
   "cell_type": "code",
   "execution_count": 8,
   "metadata": {},
   "outputs": [
    {
     "name": "stderr",
     "output_type": "stream",
     "text": [
      "c:\\Users\\Admin\\AppData\\Local\\Programs\\Python\\Python312\\Lib\\site-packages\\sklearn\\base.py:465: UserWarning: X does not have valid feature names, but RandomForestClassifier was fitted with feature names\n",
      "  warnings.warn(\n"
     ]
    },
    {
     "data": {
      "text/plain": [
       "array(['Clear', 'Clear', 'Clouds', 'Clear', 'Poor weather'], dtype=object)"
      ]
     },
     "execution_count": 8,
     "metadata": {},
     "output_type": "execute_result"
    }
   ],
   "source": [
    "test = rf_model.predict([[ 293.16,\t53,\t10000\t,2.29,\t0],\n",
    "                         [271.08\t,62\t,10000\t,1.91,\t0],\n",
    "                         [279.33\t,58\t,10000\t,0.52\t,100],\n",
    "                         [280.77,57,10000,3.60,0],\n",
    "                         [269.27\t,97\t,141\t,2.38\t,100]])\n",
    "test"
   ]
  },
  {
   "cell_type": "code",
   "execution_count": 9,
   "metadata": {},
   "outputs": [
    {
     "data": {
      "text/plain": [
       "array(['Clear', 'Clear', 'Clouds', 'Clear', 'Poor weather'], dtype=object)"
      ]
     },
     "execution_count": 9,
     "metadata": {},
     "output_type": "execute_result"
    }
   ],
   "source": [
    "test"
   ]
  }
 ],
 "metadata": {
  "kernelspec": {
   "display_name": "Python 3 (ipykernel)",
   "language": "python",
   "name": "python3"
  },
  "language_info": {
   "codemirror_mode": {
    "name": "ipython",
    "version": 3
   },
   "file_extension": ".py",
   "mimetype": "text/x-python",
   "name": "python",
   "nbconvert_exporter": "python",
   "pygments_lexer": "ipython3",
   "version": "3.11.5"
  }
 },
 "nbformat": 4,
 "nbformat_minor": 4
}
