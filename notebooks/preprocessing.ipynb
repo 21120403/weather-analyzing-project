{
 "cells": [
  {
   "cell_type": "markdown",
   "metadata": {},
   "source": [
    "## Import các thư viện cần thiết"
   ]
  },
  {
   "cell_type": "code",
   "execution_count": 20,
   "metadata": {},
   "outputs": [],
   "source": [
    "import pandas as pd\n",
    "import numpy as np"
   ]
  },
  {
   "cell_type": "markdown",
   "metadata": {},
   "source": [
    "## Khám phá dữ liệu"
   ]
  },
  {
   "cell_type": "markdown",
   "metadata": {},
   "source": [
    "### Đọc dữ liệu từ file"
   ]
  },
  {
   "cell_type": "code",
   "execution_count": 21,
   "metadata": {},
   "outputs": [],
   "source": [
    "weather_df = None\n",
    "weather_df = pd.read_csv('../data/internal/raw/weather.csv')"
   ]
  },
  {
   "cell_type": "code",
   "execution_count": 22,
   "metadata": {},
   "outputs": [
    {
     "data": {
      "text/html": [
       "<div>\n",
       "<style scoped>\n",
       "    .dataframe tbody tr th:only-of-type {\n",
       "        vertical-align: middle;\n",
       "    }\n",
       "\n",
       "    .dataframe tbody tr th {\n",
       "        vertical-align: top;\n",
       "    }\n",
       "\n",
       "    .dataframe thead th {\n",
       "        text-align: right;\n",
       "    }\n",
       "</style>\n",
       "<table border=\"1\" class=\"dataframe\">\n",
       "  <thead>\n",
       "    <tr style=\"text-align: right;\">\n",
       "      <th></th>\n",
       "      <th>Country</th>\n",
       "      <th>Name</th>\n",
       "      <th>Weather</th>\n",
       "      <th>Temp</th>\n",
       "      <th>Humidity</th>\n",
       "      <th>Visibility</th>\n",
       "      <th>Wind speed</th>\n",
       "      <th>Clouds</th>\n",
       "    </tr>\n",
       "  </thead>\n",
       "  <tbody>\n",
       "    <tr>\n",
       "      <th>0</th>\n",
       "      <td>JP</td>\n",
       "      <td>Tokyo</td>\n",
       "      <td>Clear</td>\n",
       "      <td>280.77</td>\n",
       "      <td>57</td>\n",
       "      <td>10000</td>\n",
       "      <td>3.60</td>\n",
       "      <td>0</td>\n",
       "    </tr>\n",
       "    <tr>\n",
       "      <th>1</th>\n",
       "      <td>ID</td>\n",
       "      <td>Pecenongan</td>\n",
       "      <td>Haze</td>\n",
       "      <td>298.99</td>\n",
       "      <td>83</td>\n",
       "      <td>6000</td>\n",
       "      <td>2.06</td>\n",
       "      <td>20</td>\n",
       "    </tr>\n",
       "    <tr>\n",
       "      <th>2</th>\n",
       "      <td>IN</td>\n",
       "      <td>New Delhi</td>\n",
       "      <td>Mist</td>\n",
       "      <td>293.25</td>\n",
       "      <td>83</td>\n",
       "      <td>1500</td>\n",
       "      <td>0.00</td>\n",
       "      <td>0</td>\n",
       "    </tr>\n",
       "    <tr>\n",
       "      <th>3</th>\n",
       "      <td>CN</td>\n",
       "      <td>Guangzhou</td>\n",
       "      <td>Clouds</td>\n",
       "      <td>288.07</td>\n",
       "      <td>47</td>\n",
       "      <td>10000</td>\n",
       "      <td>5.16</td>\n",
       "      <td>27</td>\n",
       "    </tr>\n",
       "    <tr>\n",
       "      <th>4</th>\n",
       "      <td>IN</td>\n",
       "      <td>Konkan Division</td>\n",
       "      <td>Mist</td>\n",
       "      <td>300.18</td>\n",
       "      <td>83</td>\n",
       "      <td>2200</td>\n",
       "      <td>3.09</td>\n",
       "      <td>20</td>\n",
       "    </tr>\n",
       "    <tr>\n",
       "      <th>...</th>\n",
       "      <td>...</td>\n",
       "      <td>...</td>\n",
       "      <td>...</td>\n",
       "      <td>...</td>\n",
       "      <td>...</td>\n",
       "      <td>...</td>\n",
       "      <td>...</td>\n",
       "      <td>...</td>\n",
       "    </tr>\n",
       "    <tr>\n",
       "      <th>3503</th>\n",
       "      <td>JP</td>\n",
       "      <td>Toyokawa</td>\n",
       "      <td>Clouds</td>\n",
       "      <td>280.24</td>\n",
       "      <td>50</td>\n",
       "      <td>10000</td>\n",
       "      <td>2.68</td>\n",
       "      <td>19</td>\n",
       "    </tr>\n",
       "    <tr>\n",
       "      <th>3504</th>\n",
       "      <td>US</td>\n",
       "      <td>City of Newport News</td>\n",
       "      <td>Clear</td>\n",
       "      <td>285.26</td>\n",
       "      <td>56</td>\n",
       "      <td>10000</td>\n",
       "      <td>4.12</td>\n",
       "      <td>0</td>\n",
       "    </tr>\n",
       "    <tr>\n",
       "      <th>3505</th>\n",
       "      <td>SS</td>\n",
       "      <td>Yei</td>\n",
       "      <td>Clouds</td>\n",
       "      <td>297.75</td>\n",
       "      <td>66</td>\n",
       "      <td>10000</td>\n",
       "      <td>1.02</td>\n",
       "      <td>56</td>\n",
       "    </tr>\n",
       "    <tr>\n",
       "      <th>3506</th>\n",
       "      <td>IN</td>\n",
       "      <td>Adoni</td>\n",
       "      <td>Clear</td>\n",
       "      <td>297.39</td>\n",
       "      <td>70</td>\n",
       "      <td>10000</td>\n",
       "      <td>3.74</td>\n",
       "      <td>6</td>\n",
       "    </tr>\n",
       "    <tr>\n",
       "      <th>3507</th>\n",
       "      <td>CN</td>\n",
       "      <td>Luzhang</td>\n",
       "      <td>Clear</td>\n",
       "      <td>288.66</td>\n",
       "      <td>77</td>\n",
       "      <td>10000</td>\n",
       "      <td>1.50</td>\n",
       "      <td>0</td>\n",
       "    </tr>\n",
       "  </tbody>\n",
       "</table>\n",
       "<p>3508 rows × 8 columns</p>\n",
       "</div>"
      ],
      "text/plain": [
       "     Country                  Name Weather    Temp  Humidity  Visibility  \\\n",
       "0         JP                 Tokyo   Clear  280.77        57       10000   \n",
       "1         ID            Pecenongan    Haze  298.99        83        6000   \n",
       "2         IN             New Delhi    Mist  293.25        83        1500   \n",
       "3         CN             Guangzhou  Clouds  288.07        47       10000   \n",
       "4         IN       Konkan Division    Mist  300.18        83        2200   \n",
       "...      ...                   ...     ...     ...       ...         ...   \n",
       "3503      JP              Toyokawa  Clouds  280.24        50       10000   \n",
       "3504      US  City of Newport News   Clear  285.26        56       10000   \n",
       "3505      SS                   Yei  Clouds  297.75        66       10000   \n",
       "3506      IN                 Adoni   Clear  297.39        70       10000   \n",
       "3507      CN               Luzhang   Clear  288.66        77       10000   \n",
       "\n",
       "      Wind speed  Clouds  \n",
       "0           3.60       0  \n",
       "1           2.06      20  \n",
       "2           0.00       0  \n",
       "3           5.16      27  \n",
       "4           3.09      20  \n",
       "...          ...     ...  \n",
       "3503        2.68      19  \n",
       "3504        4.12       0  \n",
       "3505        1.02      56  \n",
       "3506        3.74       6  \n",
       "3507        1.50       0  \n",
       "\n",
       "[3508 rows x 8 columns]"
      ]
     },
     "execution_count": 22,
     "metadata": {},
     "output_type": "execute_result"
    }
   ],
   "source": [
    "weather_df"
   ]
  },
  {
   "cell_type": "markdown",
   "metadata": {},
   "source": [
    "### Chuyển đổi định dạng ISO2 sang tên đầy đủ"
   ]
  },
  {
   "cell_type": "code",
   "execution_count": 23,
   "metadata": {},
   "outputs": [
    {
     "data": {
      "text/html": [
       "<div>\n",
       "<style scoped>\n",
       "    .dataframe tbody tr th:only-of-type {\n",
       "        vertical-align: middle;\n",
       "    }\n",
       "\n",
       "    .dataframe tbody tr th {\n",
       "        vertical-align: top;\n",
       "    }\n",
       "\n",
       "    .dataframe thead th {\n",
       "        text-align: right;\n",
       "    }\n",
       "</style>\n",
       "<table border=\"1\" class=\"dataframe\">\n",
       "  <thead>\n",
       "    <tr style=\"text-align: right;\">\n",
       "      <th></th>\n",
       "      <th>Country</th>\n",
       "      <th>Name</th>\n",
       "      <th>Weather</th>\n",
       "      <th>Temp</th>\n",
       "      <th>Humidity</th>\n",
       "      <th>Visibility</th>\n",
       "      <th>Wind speed</th>\n",
       "      <th>Clouds</th>\n",
       "    </tr>\n",
       "  </thead>\n",
       "  <tbody>\n",
       "    <tr>\n",
       "      <th>0</th>\n",
       "      <td>Japan</td>\n",
       "      <td>Tokyo</td>\n",
       "      <td>Clear</td>\n",
       "      <td>280.77</td>\n",
       "      <td>57</td>\n",
       "      <td>10000</td>\n",
       "      <td>3.60</td>\n",
       "      <td>0</td>\n",
       "    </tr>\n",
       "    <tr>\n",
       "      <th>1</th>\n",
       "      <td>Indonesia</td>\n",
       "      <td>Pecenongan</td>\n",
       "      <td>Haze</td>\n",
       "      <td>298.99</td>\n",
       "      <td>83</td>\n",
       "      <td>6000</td>\n",
       "      <td>2.06</td>\n",
       "      <td>20</td>\n",
       "    </tr>\n",
       "    <tr>\n",
       "      <th>2</th>\n",
       "      <td>India</td>\n",
       "      <td>New Delhi</td>\n",
       "      <td>Mist</td>\n",
       "      <td>293.25</td>\n",
       "      <td>83</td>\n",
       "      <td>1500</td>\n",
       "      <td>0.00</td>\n",
       "      <td>0</td>\n",
       "    </tr>\n",
       "    <tr>\n",
       "      <th>3</th>\n",
       "      <td>China</td>\n",
       "      <td>Guangzhou</td>\n",
       "      <td>Clouds</td>\n",
       "      <td>288.07</td>\n",
       "      <td>47</td>\n",
       "      <td>10000</td>\n",
       "      <td>5.16</td>\n",
       "      <td>27</td>\n",
       "    </tr>\n",
       "    <tr>\n",
       "      <th>4</th>\n",
       "      <td>India</td>\n",
       "      <td>Konkan Division</td>\n",
       "      <td>Mist</td>\n",
       "      <td>300.18</td>\n",
       "      <td>83</td>\n",
       "      <td>2200</td>\n",
       "      <td>3.09</td>\n",
       "      <td>20</td>\n",
       "    </tr>\n",
       "    <tr>\n",
       "      <th>...</th>\n",
       "      <td>...</td>\n",
       "      <td>...</td>\n",
       "      <td>...</td>\n",
       "      <td>...</td>\n",
       "      <td>...</td>\n",
       "      <td>...</td>\n",
       "      <td>...</td>\n",
       "      <td>...</td>\n",
       "    </tr>\n",
       "    <tr>\n",
       "      <th>3503</th>\n",
       "      <td>Japan</td>\n",
       "      <td>Toyokawa</td>\n",
       "      <td>Clouds</td>\n",
       "      <td>280.24</td>\n",
       "      <td>50</td>\n",
       "      <td>10000</td>\n",
       "      <td>2.68</td>\n",
       "      <td>19</td>\n",
       "    </tr>\n",
       "    <tr>\n",
       "      <th>3504</th>\n",
       "      <td>United States</td>\n",
       "      <td>City of Newport News</td>\n",
       "      <td>Clear</td>\n",
       "      <td>285.26</td>\n",
       "      <td>56</td>\n",
       "      <td>10000</td>\n",
       "      <td>4.12</td>\n",
       "      <td>0</td>\n",
       "    </tr>\n",
       "    <tr>\n",
       "      <th>3505</th>\n",
       "      <td>South Sudan</td>\n",
       "      <td>Yei</td>\n",
       "      <td>Clouds</td>\n",
       "      <td>297.75</td>\n",
       "      <td>66</td>\n",
       "      <td>10000</td>\n",
       "      <td>1.02</td>\n",
       "      <td>56</td>\n",
       "    </tr>\n",
       "    <tr>\n",
       "      <th>3506</th>\n",
       "      <td>India</td>\n",
       "      <td>Adoni</td>\n",
       "      <td>Clear</td>\n",
       "      <td>297.39</td>\n",
       "      <td>70</td>\n",
       "      <td>10000</td>\n",
       "      <td>3.74</td>\n",
       "      <td>6</td>\n",
       "    </tr>\n",
       "    <tr>\n",
       "      <th>3507</th>\n",
       "      <td>China</td>\n",
       "      <td>Luzhang</td>\n",
       "      <td>Clear</td>\n",
       "      <td>288.66</td>\n",
       "      <td>77</td>\n",
       "      <td>10000</td>\n",
       "      <td>1.50</td>\n",
       "      <td>0</td>\n",
       "    </tr>\n",
       "  </tbody>\n",
       "</table>\n",
       "<p>3508 rows × 8 columns</p>\n",
       "</div>"
      ],
      "text/plain": [
       "            Country                  Name Weather    Temp  Humidity  \\\n",
       "0             Japan                 Tokyo   Clear  280.77        57   \n",
       "1         Indonesia            Pecenongan    Haze  298.99        83   \n",
       "2             India             New Delhi    Mist  293.25        83   \n",
       "3             China             Guangzhou  Clouds  288.07        47   \n",
       "4             India       Konkan Division    Mist  300.18        83   \n",
       "...             ...                   ...     ...     ...       ...   \n",
       "3503          Japan              Toyokawa  Clouds  280.24        50   \n",
       "3504  United States  City of Newport News   Clear  285.26        56   \n",
       "3505    South Sudan                   Yei  Clouds  297.75        66   \n",
       "3506          India                 Adoni   Clear  297.39        70   \n",
       "3507          China               Luzhang   Clear  288.66        77   \n",
       "\n",
       "      Visibility  Wind speed  Clouds  \n",
       "0          10000        3.60       0  \n",
       "1           6000        2.06      20  \n",
       "2           1500        0.00       0  \n",
       "3          10000        5.16      27  \n",
       "4           2200        3.09      20  \n",
       "...          ...         ...     ...  \n",
       "3503       10000        2.68      19  \n",
       "3504       10000        4.12       0  \n",
       "3505       10000        1.02      56  \n",
       "3506       10000        3.74       6  \n",
       "3507       10000        1.50       0  \n",
       "\n",
       "[3508 rows x 8 columns]"
      ]
     },
     "execution_count": 23,
     "metadata": {},
     "output_type": "execute_result"
    }
   ],
   "source": [
    "world_cities = pd.read_csv(\"../data/external/worldcities.csv\")\n",
    "\n",
    "\n",
    "# Tạo mapping từ iso2 sang tên đầy đủ\n",
    "iso2_to_country = dict(zip(world_cities['iso2'], world_cities['country']))\n",
    "\n",
    "# Thay thế giá trị trong cột 'Country' từ iso2 sang tên đầy đủ\n",
    "weather_df['Country'] = weather_df['Country'].replace(iso2_to_country)\n",
    "weather_df"
   ]
  },
  {
   "cell_type": "markdown",
   "metadata": {},
   "source": [
    "### Dữ liệu có bao nhiêu cột và bao nhiêu dòng?"
   ]
  },
  {
   "cell_type": "code",
   "execution_count": 24,
   "metadata": {},
   "outputs": [
    {
     "name": "stdout",
     "output_type": "stream",
     "text": [
      "(3508, 8)\n"
     ]
    }
   ],
   "source": [
    "shape = None \n",
    "shape = weather_df.shape\n",
    "print(shape)"
   ]
  },
  {
   "cell_type": "markdown",
   "metadata": {},
   "source": [
    "### Ý nghĩa của mỗi dòng là gì?"
   ]
  },
  {
   "cell_type": "markdown",
   "metadata": {},
   "source": [
    "\n",
    "Mỗi dòng chứa thông tin về tình hình thời tiết của một thành phố."
   ]
  },
  {
   "cell_type": "markdown",
   "metadata": {},
   "source": [
    "### Dữ liệu có dòng nào bị trùng lặp không?"
   ]
  },
  {
   "cell_type": "code",
   "execution_count": 25,
   "metadata": {},
   "outputs": [],
   "source": [
    "num_duplicated_rows = None\n",
    "num_duplicated_rows = weather_df.duplicated().sum()"
   ]
  },
  {
   "cell_type": "code",
   "execution_count": 26,
   "metadata": {},
   "outputs": [
    {
     "name": "stdout",
     "output_type": "stream",
     "text": [
      "Dữ liệu có 6 dòng bị trùng lặp . Vui lòng xóa các dòng đó!\n"
     ]
    }
   ],
   "source": [
    "#TEST\n",
    "if num_duplicated_rows == 0:\n",
    "    print(f\"Dữ liệu không có dòng nào trùng lặp!\")\n",
    "else:\n",
    "    print(f\"Dữ liệu có {num_duplicated_rows} dòng bị trùng lặp \"+ \". Vui lòng xóa các dòng đó!\")"
   ]
  },
  {
   "cell_type": "markdown",
   "metadata": {},
   "source": [
    "#### Xóa các dòng bị trùng lắp dữ liệu"
   ]
  },
  {
   "cell_type": "code",
   "execution_count": 27,
   "metadata": {},
   "outputs": [],
   "source": [
    "#De-deduplicate the raw data\n",
    "weather_df = weather_df.drop_duplicates()"
   ]
  },
  {
   "cell_type": "markdown",
   "metadata": {},
   "source": [
    "#### Kiểm tra lại"
   ]
  },
  {
   "cell_type": "code",
   "execution_count": 28,
   "metadata": {},
   "outputs": [
    {
     "name": "stdout",
     "output_type": "stream",
     "text": [
      "Dữ liệu không có dòng nào trùng lặp!\n"
     ]
    }
   ],
   "source": [
    "#TEST\n",
    "num_duplicated_rows = weather_df.duplicated().sum()\n",
    "if num_duplicated_rows == 0:\n",
    "    print(f\"Dữ liệu không có dòng nào trùng lặp!\")\n",
    "else:\n",
    "    print(f\"Dữ liệu có {num_duplicated_rows} dòng bị trùng lặp \"+ \". Vui lòng xóa các dòng đó!\")"
   ]
  },
  {
   "cell_type": "markdown",
   "metadata": {},
   "source": [
    "### Ý nghĩa của mỗi cột là gì?"
   ]
  },
  {
   "cell_type": "markdown",
   "metadata": {},
   "source": [
    "- Country: ID của quốc gia\n",
    "- Name: Tên của thành phố\n",
    "- Weather: Điều kiện thời tiết\n",
    "- Temp: Nhiệt độ hiện tại\n",
    "- Humidity: Độ ẩm hiện tại\n",
    "- Visibility: Tầm nhìn hiện tại\n",
    "- Wind speed: Tốc độ gió hiện tại\n",
    "- Clouds: Tần suất mây hiện tại"
   ]
  },
  {
   "cell_type": "markdown",
   "metadata": {},
   "source": [
    "### Mỗi cột có kiểu dữ liệu gì? Có cột nào có kiểu dữ liệu không phù hợp cho việc xử lí dữ liệu không?"
   ]
  },
  {
   "cell_type": "code",
   "execution_count": 29,
   "metadata": {},
   "outputs": [],
   "source": [
    "\n",
    "dtypes = weather_df.dtypes"
   ]
  },
  {
   "cell_type": "code",
   "execution_count": 30,
   "metadata": {},
   "outputs": [
    {
     "data": {
      "text/plain": [
       "Country        object\n",
       "Name           object\n",
       "Weather        object\n",
       "Temp          float64\n",
       "Humidity        int64\n",
       "Visibility      int64\n",
       "Wind speed    float64\n",
       "Clouds          int64\n",
       "dtype: object"
      ]
     },
     "execution_count": 30,
     "metadata": {},
     "output_type": "execute_result"
    }
   ],
   "source": [
    "dtypes"
   ]
  },
  {
   "cell_type": "markdown",
   "metadata": {},
   "source": [
    "Không có cột nào có kiểu dữ liệu không phù hợp cho việc xử lí dữ liệu!"
   ]
  },
  {
   "cell_type": "markdown",
   "metadata": {},
   "source": [
    "### Giá trị của các cột có kiểu numeric phân bố như thế nào?\n",
    "- Phần trăm các giá trị bị thiếu là bao nhiêu?\n",
    "- Giá trị lớn nhất? Giá trị nhỏ nhất? Có gì bất thường không?"
   ]
  },
  {
   "cell_type": "markdown",
   "metadata": {},
   "source": [
    "Đối với các cột có kiểu numeric, chúng ta sẽ tính:\n",
    "- Phần trăm (từ 0 tới 100) của giá trị bi thiếu\n",
    "- Giá trị nhỏ nhất\n",
    "- Tứ phân vị 25\n",
    "- Tứ phân vị 50\n",
    "- Tứ phân vị 75\n",
    "- Giá trị lớn nhất\n",
    "\n",
    "Lưu kết quả vào DataFrame `num_col_info_df`, trong đó:\n",
    "- Tên của các cột lả tên của các cột có kiểu numeric trong `df`\n",
    "- Tên của các dòng: \"missing_ratio\", \"min\", \"lower_quartile\", \"median\", \"upper_quartile\", \"max\""
   ]
  },
  {
   "cell_type": "code",
   "execution_count": 31,
   "metadata": {},
   "outputs": [],
   "source": [
    "num_col_info_df = None\n",
    "\n",
    "num_col_info_df = weather_df.select_dtypes(include=np.number).copy()\n",
    "\n",
    "def missing_ratio(column):\n",
    "    return ((column.isnull().sum() / column.shape[0]) * 100).round(1)\n",
    "\n",
    "def lower_quartile(column):\n",
    "    return (column.quantile(0.25)).round(1)\n",
    "\n",
    "def median(column):\n",
    "    return (column.median())\n",
    "\n",
    "def upper_quartile(column):\n",
    "    return (column.quantile(0.75)).round(1)\n",
    "\n",
    "# Làm tròn giá trị đến 1 chữ số thập phân\n",
    "num_col_info_df = num_col_info_df.round(1)\n",
    "\n",
    "num_col_info_df = num_col_info_df.agg([missing_ratio, \"min\", lower_quartile, median, upper_quartile, \"max\"])"
   ]
  },
  {
   "cell_type": "code",
   "execution_count": 32,
   "metadata": {},
   "outputs": [
    {
     "data": {
      "text/html": [
       "<div>\n",
       "<style scoped>\n",
       "    .dataframe tbody tr th:only-of-type {\n",
       "        vertical-align: middle;\n",
       "    }\n",
       "\n",
       "    .dataframe tbody tr th {\n",
       "        vertical-align: top;\n",
       "    }\n",
       "\n",
       "    .dataframe thead th {\n",
       "        text-align: right;\n",
       "    }\n",
       "</style>\n",
       "<table border=\"1\" class=\"dataframe\">\n",
       "  <thead>\n",
       "    <tr style=\"text-align: right;\">\n",
       "      <th></th>\n",
       "      <th>Temp</th>\n",
       "      <th>Humidity</th>\n",
       "      <th>Visibility</th>\n",
       "      <th>Wind speed</th>\n",
       "      <th>Clouds</th>\n",
       "    </tr>\n",
       "  </thead>\n",
       "  <tbody>\n",
       "    <tr>\n",
       "      <th>missing_ratio</th>\n",
       "      <td>0.0</td>\n",
       "      <td>0.0</td>\n",
       "      <td>0.0</td>\n",
       "      <td>0.0</td>\n",
       "      <td>0.0</td>\n",
       "    </tr>\n",
       "    <tr>\n",
       "      <th>min</th>\n",
       "      <td>247.6</td>\n",
       "      <td>1.0</td>\n",
       "      <td>38.0</td>\n",
       "      <td>0.0</td>\n",
       "      <td>0.0</td>\n",
       "    </tr>\n",
       "    <tr>\n",
       "      <th>lower_quartile</th>\n",
       "      <td>278.3</td>\n",
       "      <td>50.0</td>\n",
       "      <td>10000.0</td>\n",
       "      <td>1.5</td>\n",
       "      <td>5.0</td>\n",
       "    </tr>\n",
       "    <tr>\n",
       "      <th>median</th>\n",
       "      <td>289.3</td>\n",
       "      <td>69.0</td>\n",
       "      <td>10000.0</td>\n",
       "      <td>2.5</td>\n",
       "      <td>40.0</td>\n",
       "    </tr>\n",
       "    <tr>\n",
       "      <th>upper_quartile</th>\n",
       "      <td>298.2</td>\n",
       "      <td>84.0</td>\n",
       "      <td>10000.0</td>\n",
       "      <td>3.7</td>\n",
       "      <td>93.0</td>\n",
       "    </tr>\n",
       "    <tr>\n",
       "      <th>max</th>\n",
       "      <td>313.8</td>\n",
       "      <td>100.0</td>\n",
       "      <td>10000.0</td>\n",
       "      <td>16.1</td>\n",
       "      <td>100.0</td>\n",
       "    </tr>\n",
       "  </tbody>\n",
       "</table>\n",
       "</div>"
      ],
      "text/plain": [
       "                 Temp  Humidity  Visibility  Wind speed  Clouds\n",
       "missing_ratio     0.0       0.0         0.0         0.0     0.0\n",
       "min             247.6       1.0        38.0         0.0     0.0\n",
       "lower_quartile  278.3      50.0     10000.0         1.5     5.0\n",
       "median          289.3      69.0     10000.0         2.5    40.0\n",
       "upper_quartile  298.2      84.0     10000.0         3.7    93.0\n",
       "max             313.8     100.0     10000.0        16.1   100.0"
      ]
     },
     "execution_count": 32,
     "metadata": {},
     "output_type": "execute_result"
    }
   ],
   "source": [
    "num_col_info_df"
   ]
  },
  {
   "cell_type": "markdown",
   "metadata": {},
   "source": [
    "### Xóa cột có tỉ lệ giá trị bị thiếu lớn hơn 75%"
   ]
  },
  {
   "cell_type": "code",
   "execution_count": 33,
   "metadata": {},
   "outputs": [],
   "source": [
    "def drop_missing_features(df: pd.DataFrame, missing_lst: dict = dict(num_col_info_df.iloc[0]), threshold: float = 75.0) -> pd.DataFrame:\n",
    "    for col, missing_rate in missing_lst.items():\n",
    "        if missing_rate > threshold:\n",
    "            del df[col]\n",
    "    return df"
   ]
  },
  {
   "cell_type": "code",
   "execution_count": 34,
   "metadata": {},
   "outputs": [],
   "source": [
    "weather_df = drop_missing_features(weather_df)"
   ]
  },
  {
   "cell_type": "code",
   "execution_count": 35,
   "metadata": {},
   "outputs": [
    {
     "data": {
      "text/html": [
       "<div>\n",
       "<style scoped>\n",
       "    .dataframe tbody tr th:only-of-type {\n",
       "        vertical-align: middle;\n",
       "    }\n",
       "\n",
       "    .dataframe tbody tr th {\n",
       "        vertical-align: top;\n",
       "    }\n",
       "\n",
       "    .dataframe thead th {\n",
       "        text-align: right;\n",
       "    }\n",
       "</style>\n",
       "<table border=\"1\" class=\"dataframe\">\n",
       "  <thead>\n",
       "    <tr style=\"text-align: right;\">\n",
       "      <th></th>\n",
       "      <th>Country</th>\n",
       "      <th>Name</th>\n",
       "      <th>Weather</th>\n",
       "      <th>Temp</th>\n",
       "      <th>Humidity</th>\n",
       "      <th>Visibility</th>\n",
       "      <th>Wind speed</th>\n",
       "      <th>Clouds</th>\n",
       "    </tr>\n",
       "  </thead>\n",
       "  <tbody>\n",
       "    <tr>\n",
       "      <th>0</th>\n",
       "      <td>Japan</td>\n",
       "      <td>Tokyo</td>\n",
       "      <td>Clear</td>\n",
       "      <td>280.77</td>\n",
       "      <td>57</td>\n",
       "      <td>10000</td>\n",
       "      <td>3.60</td>\n",
       "      <td>0</td>\n",
       "    </tr>\n",
       "    <tr>\n",
       "      <th>1</th>\n",
       "      <td>Indonesia</td>\n",
       "      <td>Pecenongan</td>\n",
       "      <td>Haze</td>\n",
       "      <td>298.99</td>\n",
       "      <td>83</td>\n",
       "      <td>6000</td>\n",
       "      <td>2.06</td>\n",
       "      <td>20</td>\n",
       "    </tr>\n",
       "    <tr>\n",
       "      <th>2</th>\n",
       "      <td>India</td>\n",
       "      <td>New Delhi</td>\n",
       "      <td>Mist</td>\n",
       "      <td>293.25</td>\n",
       "      <td>83</td>\n",
       "      <td>1500</td>\n",
       "      <td>0.00</td>\n",
       "      <td>0</td>\n",
       "    </tr>\n",
       "    <tr>\n",
       "      <th>3</th>\n",
       "      <td>China</td>\n",
       "      <td>Guangzhou</td>\n",
       "      <td>Clouds</td>\n",
       "      <td>288.07</td>\n",
       "      <td>47</td>\n",
       "      <td>10000</td>\n",
       "      <td>5.16</td>\n",
       "      <td>27</td>\n",
       "    </tr>\n",
       "    <tr>\n",
       "      <th>4</th>\n",
       "      <td>India</td>\n",
       "      <td>Konkan Division</td>\n",
       "      <td>Mist</td>\n",
       "      <td>300.18</td>\n",
       "      <td>83</td>\n",
       "      <td>2200</td>\n",
       "      <td>3.09</td>\n",
       "      <td>20</td>\n",
       "    </tr>\n",
       "  </tbody>\n",
       "</table>\n",
       "</div>"
      ],
      "text/plain": [
       "     Country             Name Weather    Temp  Humidity  Visibility  \\\n",
       "0      Japan            Tokyo   Clear  280.77        57       10000   \n",
       "1  Indonesia       Pecenongan    Haze  298.99        83        6000   \n",
       "2      India        New Delhi    Mist  293.25        83        1500   \n",
       "3      China        Guangzhou  Clouds  288.07        47       10000   \n",
       "4      India  Konkan Division    Mist  300.18        83        2200   \n",
       "\n",
       "   Wind speed  Clouds  \n",
       "0        3.60       0  \n",
       "1        2.06      20  \n",
       "2        0.00       0  \n",
       "3        5.16      27  \n",
       "4        3.09      20  "
      ]
     },
     "execution_count": 35,
     "metadata": {},
     "output_type": "execute_result"
    }
   ],
   "source": [
    "weather_df.head()"
   ]
  },
  {
   "cell_type": "markdown",
   "metadata": {},
   "source": [
    "### Giá trị của các cột có kiểu không phải numeric phân bố như thế nào?\n",
    "- Phần trăm giá trị bị thiếu là bao nhiêu?\n",
    "- Có bao nhiêu giá trị phân biệt? Hiển thị một vài giá trị\n",
    "- Có gì bất thường không?"
   ]
  },
  {
   "cell_type": "markdown",
   "metadata": {},
   "source": [
    "Đối với các cột có kiểu numeric, chúng ta sẽ tính:\n",
    "- Phần trăm (từ 0 tới 100) của giá trị bị thiếu\n",
    "- Số lượng giá trị (giá trị phân biệt, không xét các giá trị bị thiếu)\n",
    "Lưu kết quả vào DataFrame num_col_info_df, trong đó:\n",
    "- Tên của các cột lả tên của các cột có kiểu không phải numeric trong `df`\n",
    "- Tên của các dòng: \"missing_ratio\", \"num_values\""
   ]
  },
  {
   "cell_type": "code",
   "execution_count": 36,
   "metadata": {},
   "outputs": [],
   "source": [
    "pd.set_option('display.max_colwidth', 100)\n",
    "pd.set_option('display.max_columns', None)"
   ]
  },
  {
   "cell_type": "code",
   "execution_count": 37,
   "metadata": {},
   "outputs": [
    {
     "data": {
      "text/html": [
       "<div>\n",
       "<style scoped>\n",
       "    .dataframe tbody tr th:only-of-type {\n",
       "        vertical-align: middle;\n",
       "    }\n",
       "\n",
       "    .dataframe tbody tr th {\n",
       "        vertical-align: top;\n",
       "    }\n",
       "\n",
       "    .dataframe thead th {\n",
       "        text-align: right;\n",
       "    }\n",
       "</style>\n",
       "<table border=\"1\" class=\"dataframe\">\n",
       "  <thead>\n",
       "    <tr style=\"text-align: right;\">\n",
       "      <th></th>\n",
       "      <th>Country</th>\n",
       "      <th>Name</th>\n",
       "      <th>Weather</th>\n",
       "    </tr>\n",
       "  </thead>\n",
       "  <tbody>\n",
       "    <tr>\n",
       "      <th>missing_ratio</th>\n",
       "      <td>0.0</td>\n",
       "      <td>0.1</td>\n",
       "      <td>0.0</td>\n",
       "    </tr>\n",
       "    <tr>\n",
       "      <th>num_values</th>\n",
       "      <td>238</td>\n",
       "      <td>3336</td>\n",
       "      <td>10</td>\n",
       "    </tr>\n",
       "    <tr>\n",
       "      <th>value_ratios</th>\n",
       "      <td>{'China': 17.9, 'India': 8.3, 'United States': 7.4, 'Japan': 4.3, 'Brazil': 4.3, 'Russia': 2.9, ...</td>\n",
       "      <td>{'Adana': 0.1, 'Xinzhou': 0.1, 'George Town': 0.1, 'Xinxiang': 0.1, 'Guadalupe': 0.1, 'Minamisen...</td>\n",
       "      <td>{'Clouds': 58.0, 'Clear': 28.5, 'Rain': 6.4, 'Mist': 3.1, 'Snow': 1.8, 'Haze': 1.3, 'Fog': 0.4, ...</td>\n",
       "    </tr>\n",
       "  </tbody>\n",
       "</table>\n",
       "</div>"
      ],
      "text/plain": [
       "                                                                                                           Country  \\\n",
       "missing_ratio                                                                                                  0.0   \n",
       "num_values                                                                                                     238   \n",
       "value_ratios   {'China': 17.9, 'India': 8.3, 'United States': 7.4, 'Japan': 4.3, 'Brazil': 4.3, 'Russia': 2.9, ...   \n",
       "\n",
       "                                                                                                              Name  \\\n",
       "missing_ratio                                                                                                  0.1   \n",
       "num_values                                                                                                    3336   \n",
       "value_ratios   {'Adana': 0.1, 'Xinzhou': 0.1, 'George Town': 0.1, 'Xinxiang': 0.1, 'Guadalupe': 0.1, 'Minamisen...   \n",
       "\n",
       "                                                                                                           Weather  \n",
       "missing_ratio                                                                                                  0.0  \n",
       "num_values                                                                                                      10  \n",
       "value_ratios   {'Clouds': 58.0, 'Clear': 28.5, 'Rain': 6.4, 'Mist': 3.1, 'Snow': 1.8, 'Haze': 1.3, 'Fog': 0.4, ...  "
      ]
     },
     "execution_count": 37,
     "metadata": {},
     "output_type": "execute_result"
    }
   ],
   "source": [
    "cat_col_info_df = weather_df.select_dtypes(exclude=[np.number])\n",
    "\n",
    "def missing_ratio(column):\n",
    "    return ((column.isnull().sum() / column.shape[0]) * 100).round(1)\n",
    "\n",
    "# Hàm tính số lượng giá trị\n",
    "def num_values(column):\n",
    "    return column.nunique()\n",
    "\n",
    "# Hàm tính tỷ lệ của từng giá trị\n",
    "def value_ratios(column):\n",
    "    value_counts = column.value_counts() #Đếm số lượng của mỗi loại value trong 1 cột\n",
    "    non_missing_count = value_counts.sum() #Tổng số lượng của tất cả value trong 1 cột\n",
    "    ratios = (value_counts / non_missing_count * 100).round(1) #Lưu tỉ lệ vào Series\n",
    "    ratios_dict = ratios.to_dict()\n",
    "    sorted_ratios_dict = dict(sorted(ratios_dict.items(), key=lambda item: item[1], reverse=True))\n",
    "    return sorted_ratios_dict\n",
    "\n",
    "cat_col_info_df = cat_col_info_df.agg([missing_ratio, num_values, value_ratios])\n",
    "cat_col_info_df"
   ]
  },
  {
   "cell_type": "markdown",
   "metadata": {},
   "source": [
    "### Lưu dữ liệu đã xử lí"
   ]
  },
  {
   "cell_type": "code",
   "execution_count": 38,
   "metadata": {},
   "outputs": [
    {
     "name": "stdout",
     "output_type": "stream",
     "text": [
      "Total number of features: 8\n"
     ]
    },
    {
     "data": {
      "text/plain": [
       "Country        object\n",
       "Name           object\n",
       "Weather        object\n",
       "Temp          float64\n",
       "Humidity        int64\n",
       "Visibility      int64\n",
       "Wind speed    float64\n",
       "Clouds          int64\n",
       "dtype: object"
      ]
     },
     "execution_count": 38,
     "metadata": {},
     "output_type": "execute_result"
    }
   ],
   "source": [
    "print(f\"Total number of features: {weather_df.shape[1]}\")\n",
    "weather_df.dtypes"
   ]
  },
  {
   "cell_type": "code",
   "execution_count": 39,
   "metadata": {},
   "outputs": [],
   "source": [
    "\n",
    "weather_df.to_csv(\"../data/internal/processed/weather_processed.csv\" , index=False)"
   ]
  }
 ],
 "metadata": {
  "kernelspec": {
   "display_name": "Python 3 (ipykernel)",
   "language": "python",
   "name": "python3"
  },
  "language_info": {
   "codemirror_mode": {
    "name": "ipython",
    "version": 3
   },
   "file_extension": ".py",
   "mimetype": "text/x-python",
   "name": "python",
   "nbconvert_exporter": "python",
   "pygments_lexer": "ipython3",
   "version": "3.11.7"
  }
 },
 "nbformat": 4,
 "nbformat_minor": 2
}
