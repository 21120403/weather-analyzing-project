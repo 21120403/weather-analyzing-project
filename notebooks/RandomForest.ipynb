{
 "cells": [
  {
   "cell_type": "code",
   "execution_count": 35,
   "metadata": {},
   "outputs": [],
   "source": [
    "import pandas as pd\n",
    "import numpy as np\n",
    "from sklearn.model_selection import train_test_split\n",
    "from sklearn.svm import SVC\n",
    "from sklearn.metrics import accuracy_score,precision_score, recall_score\n",
    "from sklearn.ensemble import RandomForestClassifier\n",
    "from imblearn.over_sampling import SMOTE\n",
    "from imblearn.under_sampling import RandomUnderSampler\n",
    "from sklearn.model_selection import GridSearchCV\n",
    "from sklearn.model_selection import RandomizedSearchCV"
   ]
  },
  {
   "cell_type": "code",
   "execution_count": 36,
   "metadata": {},
   "outputs": [],
   "source": [
    "weather_df = pd.read_csv('../data/internal/processed/weather_processed.csv')"
   ]
  },
  {
   "cell_type": "code",
   "execution_count": 37,
   "metadata": {},
   "outputs": [],
   "source": [
    "weather_df = weather_df.drop(\"Country\", axis='columns')\n",
    "weather_df = weather_df.drop(\"Name\", axis='columns')"
   ]
  },
  {
   "cell_type": "code",
   "execution_count": 38,
   "metadata": {},
   "outputs": [
    {
     "data": {
      "text/plain": [
       "array(['Clear', 'Haze', 'Mist', 'Clouds', 'Snow', 'Thunderstorm', 'Rain',\n",
       "       'Drizzle', 'Fog', 'Smoke'], dtype=object)"
      ]
     },
     "execution_count": 38,
     "metadata": {},
     "output_type": "execute_result"
    }
   ],
   "source": [
    "weather_df[\"Weather\"].unique()"
   ]
  },
  {
   "cell_type": "code",
   "execution_count": 39,
   "metadata": {},
   "outputs": [
    {
     "data": {
      "text/html": [
       "<div>\n",
       "<style scoped>\n",
       "    .dataframe tbody tr th:only-of-type {\n",
       "        vertical-align: middle;\n",
       "    }\n",
       "\n",
       "    .dataframe tbody tr th {\n",
       "        vertical-align: top;\n",
       "    }\n",
       "\n",
       "    .dataframe thead th {\n",
       "        text-align: right;\n",
       "    }\n",
       "</style>\n",
       "<table border=\"1\" class=\"dataframe\">\n",
       "  <thead>\n",
       "    <tr style=\"text-align: right;\">\n",
       "      <th></th>\n",
       "      <th>Weather</th>\n",
       "      <th>Temp</th>\n",
       "      <th>Humidity</th>\n",
       "      <th>Visibility</th>\n",
       "      <th>Wind speed</th>\n",
       "      <th>Clouds</th>\n",
       "    </tr>\n",
       "  </thead>\n",
       "  <tbody>\n",
       "    <tr>\n",
       "      <th>0</th>\n",
       "      <td>Clear</td>\n",
       "      <td>280.77</td>\n",
       "      <td>57</td>\n",
       "      <td>10000</td>\n",
       "      <td>3.60</td>\n",
       "      <td>0</td>\n",
       "    </tr>\n",
       "    <tr>\n",
       "      <th>1</th>\n",
       "      <td>Haze</td>\n",
       "      <td>298.99</td>\n",
       "      <td>83</td>\n",
       "      <td>6000</td>\n",
       "      <td>2.06</td>\n",
       "      <td>20</td>\n",
       "    </tr>\n",
       "    <tr>\n",
       "      <th>2</th>\n",
       "      <td>Mist</td>\n",
       "      <td>293.25</td>\n",
       "      <td>83</td>\n",
       "      <td>1500</td>\n",
       "      <td>0.00</td>\n",
       "      <td>0</td>\n",
       "    </tr>\n",
       "    <tr>\n",
       "      <th>3</th>\n",
       "      <td>Clouds</td>\n",
       "      <td>288.07</td>\n",
       "      <td>47</td>\n",
       "      <td>10000</td>\n",
       "      <td>5.16</td>\n",
       "      <td>27</td>\n",
       "    </tr>\n",
       "    <tr>\n",
       "      <th>4</th>\n",
       "      <td>Mist</td>\n",
       "      <td>300.18</td>\n",
       "      <td>83</td>\n",
       "      <td>2200</td>\n",
       "      <td>3.09</td>\n",
       "      <td>20</td>\n",
       "    </tr>\n",
       "    <tr>\n",
       "      <th>...</th>\n",
       "      <td>...</td>\n",
       "      <td>...</td>\n",
       "      <td>...</td>\n",
       "      <td>...</td>\n",
       "      <td>...</td>\n",
       "      <td>...</td>\n",
       "    </tr>\n",
       "    <tr>\n",
       "      <th>3497</th>\n",
       "      <td>Clouds</td>\n",
       "      <td>280.24</td>\n",
       "      <td>50</td>\n",
       "      <td>10000</td>\n",
       "      <td>2.68</td>\n",
       "      <td>19</td>\n",
       "    </tr>\n",
       "    <tr>\n",
       "      <th>3498</th>\n",
       "      <td>Clear</td>\n",
       "      <td>285.26</td>\n",
       "      <td>56</td>\n",
       "      <td>10000</td>\n",
       "      <td>4.12</td>\n",
       "      <td>0</td>\n",
       "    </tr>\n",
       "    <tr>\n",
       "      <th>3499</th>\n",
       "      <td>Clouds</td>\n",
       "      <td>297.75</td>\n",
       "      <td>66</td>\n",
       "      <td>10000</td>\n",
       "      <td>1.02</td>\n",
       "      <td>56</td>\n",
       "    </tr>\n",
       "    <tr>\n",
       "      <th>3500</th>\n",
       "      <td>Clear</td>\n",
       "      <td>297.39</td>\n",
       "      <td>70</td>\n",
       "      <td>10000</td>\n",
       "      <td>3.74</td>\n",
       "      <td>6</td>\n",
       "    </tr>\n",
       "    <tr>\n",
       "      <th>3501</th>\n",
       "      <td>Clear</td>\n",
       "      <td>288.66</td>\n",
       "      <td>77</td>\n",
       "      <td>10000</td>\n",
       "      <td>1.50</td>\n",
       "      <td>0</td>\n",
       "    </tr>\n",
       "  </tbody>\n",
       "</table>\n",
       "<p>3502 rows × 6 columns</p>\n",
       "</div>"
      ],
      "text/plain": [
       "     Weather    Temp  Humidity  Visibility  Wind speed  Clouds\n",
       "0      Clear  280.77        57       10000        3.60       0\n",
       "1       Haze  298.99        83        6000        2.06      20\n",
       "2       Mist  293.25        83        1500        0.00       0\n",
       "3     Clouds  288.07        47       10000        5.16      27\n",
       "4       Mist  300.18        83        2200        3.09      20\n",
       "...      ...     ...       ...         ...         ...     ...\n",
       "3497  Clouds  280.24        50       10000        2.68      19\n",
       "3498   Clear  285.26        56       10000        4.12       0\n",
       "3499  Clouds  297.75        66       10000        1.02      56\n",
       "3500   Clear  297.39        70       10000        3.74       6\n",
       "3501   Clear  288.66        77       10000        1.50       0\n",
       "\n",
       "[3502 rows x 6 columns]"
      ]
     },
     "execution_count": 39,
     "metadata": {},
     "output_type": "execute_result"
    }
   ],
   "source": [
    "weather_df"
   ]
  },
  {
   "cell_type": "markdown",
   "metadata": {},
   "source": [
    "## 1. Normal prediction:"
   ]
  },
  {
   "cell_type": "code",
   "execution_count": 40,
   "metadata": {},
   "outputs": [
    {
     "name": "stdout",
     "output_type": "stream",
     "text": [
      "300 samples\n",
      "Precision: 92.20%\n",
      "Accuracy: 92.58%\n",
      "Recall: 92.58%\n",
      "600 samples\n",
      "Precision: 92.05%\n",
      "Accuracy: 92.44%\n",
      "Recall: 92.44%\n"
     ]
    }
   ],
   "source": [
    "# Thay đổi nhãn của các loại thời tiết không thuộc Clear hoặc Clouds thành 'Thời tiết xấu'\n",
    "weather_df['Weather'] = weather_df['Weather'].replace(['Haze', 'Mist', 'Snow', 'Thunderstorm', 'Rain', 'Drizzle', 'Fog', 'Smoke'], 'Poor weather')\n",
    "\n",
    "# Lấy các feature và nhãn đã chỉnh sửa\n",
    "features = weather_df[['Temp', 'Humidity', 'Visibility', 'Wind speed', 'Clouds']]\n",
    "labels = weather_df['Weather']\n",
    "\n",
    "# Chia dữ liệu thành tập huấn luyện và tập kiểm tra\n",
    "X_train, X_test, y_train, y_test = train_test_split(features, labels, test_size=0.2, random_state=80)\n",
    "\n",
    "for i in range(1,3):\n",
    "    trees = i*300\n",
    "    # Tạo mô hình Random Forest và huấn luyện nó\n",
    "    rf_model = RandomForestClassifier(n_estimators= trees, random_state=44)  \n",
    "    rf_model.fit(X_train, y_train)\n",
    "\n",
    "    # Dự đoán trên tập kiểm tra\n",
    "    predictions = rf_model.predict(X_test)\n",
    "\n",
    "    # Đánh giá mô hình\n",
    "    precision = precision_score(y_test, predictions, average='weighted')\n",
    "    accuracy = accuracy_score(y_test, predictions)\n",
    "    recall = recall_score(y_test, predictions, average='weighted')\n",
    "    print(trees, 'samples')\n",
    "    print(f'Precision: {precision * 100:.2f}%')\n",
    "    print(f'Accuracy: {accuracy * 100:.2f}%')\n",
    "    print(f'Recall: {recall * 100:.2f}%')"
   ]
  },
  {
   "cell_type": "code",
   "execution_count": 41,
   "metadata": {},
   "outputs": [
    {
     "name": "stderr",
     "output_type": "stream",
     "text": [
      "C:\\Users\\kdat1\\AppData\\Local\\Packages\\PythonSoftwareFoundation.Python.3.12_qbz5n2kfra8p0\\LocalCache\\local-packages\\Python312\\site-packages\\sklearn\\base.py:465: UserWarning: X does not have valid feature names, but RandomForestClassifier was fitted with feature names\n",
      "  warnings.warn(\n"
     ]
    },
    {
     "data": {
      "text/plain": [
       "array(['Clear', 'Clear', 'Clouds', 'Clear', 'Poor weather'], dtype=object)"
      ]
     },
     "execution_count": 41,
     "metadata": {},
     "output_type": "execute_result"
    }
   ],
   "source": [
    "test = rf_model.predict([[ 293.16,\t53,\t10000\t,2.29,\t0],\n",
    "                         [271.08\t,62\t,10000\t,1.91,\t0],\n",
    "                         [279.33\t,58\t,10000\t,0.52\t,100],\n",
    "                         [280.77,57,10000,3.60,0],\n",
    "                         [269.27\t,97\t,141\t,2.38\t,100]])\n",
    "test"
   ]
  },
  {
   "cell_type": "markdown",
   "metadata": {},
   "source": [
    "## 2. Oversampling"
   ]
  },
  {
   "cell_type": "markdown",
   "metadata": {},
   "source": [
    "- Oversampling involves randomly duplicating examples from the minority class and adding them to the training dataset"
   ]
  },
  {
   "cell_type": "code",
   "execution_count": 52,
   "metadata": {},
   "outputs": [
    {
     "name": "stdout",
     "output_type": "stream",
     "text": [
      "100 samples\n",
      "Precision: 91.55%\n",
      "Accuracy: 91.16%\n",
      "Recall: 91.16%\n",
      "200 samples\n",
      "Precision: 91.10%\n",
      "Accuracy: 90.73%\n",
      "Recall: 90.73%\n"
     ]
    }
   ],
   "source": [
    "# Imbalance data\n",
    "# Oversampling\n",
    "\n",
    "# Resample\n",
    "smt = SMOTE(random_state= 80)\n",
    "X_train_sm, y_train_sm = smt.fit_resample(X_train, y_train)\n",
    "\n",
    "# Tạo mô hình Random Forest và huấn luyện nó\n",
    "for i in range(1,3):\n",
    "    trees = i*100\n",
    "    rf_model = RandomForestClassifier(n_estimators= trees, random_state=44)\n",
    "    rf_model.fit(X_train_sm, y_train_sm)\n",
    "\n",
    "    # Dự đoán trên tập kiểm tra\n",
    "    predictions = rf_model.predict(X_test)\n",
    "\n",
    "    # Đánh giá mô hình\n",
    "    precision = precision_score(y_test, predictions, average='weighted')\n",
    "    accuracy = accuracy_score(y_test, predictions)\n",
    "    recall = recall_score(y_test, predictions, average='weighted')\n",
    "    print(trees, 'samples')\n",
    "    print(f'Precision: {precision * 100:.2f}%')\n",
    "    print(f'Accuracy: {accuracy * 100:.2f}%')\n",
    "    print(f'Recall: {recall * 100:.2f}%')"
   ]
  },
  {
   "cell_type": "code",
   "execution_count": 43,
   "metadata": {},
   "outputs": [
    {
     "name": "stderr",
     "output_type": "stream",
     "text": [
      "C:\\Users\\kdat1\\AppData\\Local\\Packages\\PythonSoftwareFoundation.Python.3.12_qbz5n2kfra8p0\\LocalCache\\local-packages\\Python312\\site-packages\\sklearn\\base.py:465: UserWarning: X does not have valid feature names, but RandomForestClassifier was fitted with feature names\n",
      "  warnings.warn(\n"
     ]
    },
    {
     "data": {
      "text/plain": [
       "array(['Clear', 'Clear', 'Clouds', 'Clear', 'Poor weather'], dtype=object)"
      ]
     },
     "execution_count": 43,
     "metadata": {},
     "output_type": "execute_result"
    }
   ],
   "source": [
    "test = rf_model.predict([[ 293.16,\t53,\t10000\t,2.29,\t0],\n",
    "                         [271.08\t,62\t,10000\t,1.91,\t0],\n",
    "                         [279.33\t,58\t,10000\t,0.52\t,100],\n",
    "                         [280.77,57,10000,3.60,0],\n",
    "                         [269.27\t,97\t,141\t,2.38\t,100]])\n",
    "test"
   ]
  },
  {
   "cell_type": "markdown",
   "metadata": {},
   "source": [
    "## 3. Undersampling"
   ]
  },
  {
   "cell_type": "markdown",
   "metadata": {},
   "source": [
    "- Undersampling involves randomly selecting examples from the majority class to delete from the training dataset."
   ]
  },
  {
   "cell_type": "code",
   "execution_count": 53,
   "metadata": {},
   "outputs": [
    {
     "name": "stdout",
     "output_type": "stream",
     "text": [
      "100 samples\n",
      "Precision: 91.40%\n",
      "Accuracy: 87.87%\n",
      "Recall: 87.87%\n",
      "200 samples\n",
      "Precision: 91.50%\n",
      "Accuracy: 87.73%\n",
      "Recall: 87.73%\n"
     ]
    }
   ],
   "source": [
    "# Imbalance data\n",
    "# Undersampling\n",
    "\n",
    "# Resample \n",
    "undersampling = RandomUnderSampler(random_state= 80)\n",
    "X_train_sm, y_train_sm = undersampling.fit_resample(X_train, y_train)\n",
    "\n",
    "# Tạo mô hình Random Forest và huấn luyện nó\n",
    "for i in range(1,3):\n",
    "    trees = i*100\n",
    "    rf_model = RandomForestClassifier(n_estimators=trees, random_state=44) \n",
    "    rf_model.fit(X_train_sm, y_train_sm)\n",
    "\n",
    "    # Dự đoán trên tập kiểm tra\n",
    "    predictions = rf_model.predict(X_test)\n",
    "\n",
    "    # Đánh giá mô hình\n",
    "    precision = precision_score(y_test, predictions, average='weighted')\n",
    "    accuracy = accuracy_score(y_test, predictions)\n",
    "    recall = recall_score(y_test, predictions, average='weighted')\n",
    "    print(trees, 'samples')\n",
    "    print(f'Precision: {precision * 100:.2f}%')\n",
    "    print(f'Accuracy: {accuracy * 100:.2f}%')\n",
    "    print(f'Recall: {recall * 100:.2f}%')"
   ]
  },
  {
   "cell_type": "code",
   "execution_count": 45,
   "metadata": {},
   "outputs": [
    {
     "name": "stderr",
     "output_type": "stream",
     "text": [
      "C:\\Users\\kdat1\\AppData\\Local\\Packages\\PythonSoftwareFoundation.Python.3.12_qbz5n2kfra8p0\\LocalCache\\local-packages\\Python312\\site-packages\\sklearn\\base.py:465: UserWarning: X does not have valid feature names, but RandomForestClassifier was fitted with feature names\n",
      "  warnings.warn(\n"
     ]
    },
    {
     "data": {
      "text/plain": [
       "array(['Clear', 'Clear', 'Clouds', 'Clear', 'Poor weather'], dtype=object)"
      ]
     },
     "execution_count": 45,
     "metadata": {},
     "output_type": "execute_result"
    }
   ],
   "source": [
    "test = rf_model.predict([[ 293.16,\t53,\t10000\t,2.29,\t0],\n",
    "                         [271.08\t,62\t,10000\t,1.91,\t0],\n",
    "                         [279.33\t,58\t,10000\t,0.52\t,100],\n",
    "                         [280.77,57,10000,3.60,0],\n",
    "                         [269.27\t,97\t,141\t,2.38\t,100]])\n",
    "test"
   ]
  },
  {
   "cell_type": "markdown",
   "metadata": {},
   "source": [
    "## 4. Grid Search Cross-Validation: \n",
    "- Grid Search Cross-Validation is the process of performing hyperparameter tuning in order to determine the optimal values for a given model."
   ]
  },
  {
   "cell_type": "code",
   "execution_count": 50,
   "metadata": {},
   "outputs": [
    {
     "name": "stdout",
     "output_type": "stream",
     "text": [
      "Precision: 92.20%\n",
      "Accuracy: 92.58%\n",
      "Recall: 92.58%\n"
     ]
    }
   ],
   "source": [
    "# Cross-validation\n",
    "# Grid Search\n",
    "\n",
    "# Hyperparameter grid\n",
    "param_grid = {\n",
    "    'n_estimators': [50, 100, 200],\n",
    "    'max_depth': [None],\n",
    "    'min_samples_split': [2],\n",
    "    'min_samples_leaf': [1],\n",
    "    'class_weight': [None]\n",
    "}\n",
    "\n",
    "# Tạo mô hình Random Forest và huấn luyện nó\n",
    "rf_model = RandomForestClassifier(random_state=44)\n",
    "grid_search = GridSearchCV(rf_model, param_grid, cv=5, scoring='accuracy')\n",
    "grid_search.fit(X_train, y_train)\n",
    "\n",
    "# Chọn ra mô hình tốt nhất\n",
    "best_rf_model = grid_search.best_estimator_\n",
    "\n",
    "# Dự đoán trên tập kiểm tra\n",
    "best_predictions = best_rf_model.predict(X_test)\n",
    "\n",
    "# Đánh giá mô hình\n",
    "best_precision = precision_score(y_test, best_predictions, average='weighted')\n",
    "best_accuracy = accuracy_score(y_test, best_predictions)\n",
    "best_recall = recall_score(y_test, best_predictions, average='weighted')\n",
    "\n",
    "print(f'Precision: {best_precision * 100:.2f}%')\n",
    "print(f'Accuracy: {best_accuracy * 100:.2f}%')\n",
    "print(f'Recall: {best_recall * 100:.2f}%')"
   ]
  },
  {
   "cell_type": "code",
   "execution_count": 47,
   "metadata": {},
   "outputs": [
    {
     "name": "stderr",
     "output_type": "stream",
     "text": [
      "C:\\Users\\kdat1\\AppData\\Local\\Packages\\PythonSoftwareFoundation.Python.3.12_qbz5n2kfra8p0\\LocalCache\\local-packages\\Python312\\site-packages\\sklearn\\base.py:465: UserWarning: X does not have valid feature names, but RandomForestClassifier was fitted with feature names\n",
      "  warnings.warn(\n"
     ]
    },
    {
     "data": {
      "text/plain": [
       "array(['Clear', 'Clear', 'Clouds', 'Clear', 'Poor weather'], dtype=object)"
      ]
     },
     "execution_count": 47,
     "metadata": {},
     "output_type": "execute_result"
    }
   ],
   "source": [
    "test = best_rf_model.predict([[ 293.16,\t53,\t10000\t,2.29,\t0],\n",
    "                         [271.08\t,62\t,10000\t,1.91,\t0],\n",
    "                         [279.33\t,58\t,10000\t,0.52\t,100],\n",
    "                         [280.77,57,10000,3.60,0],\n",
    "                         [269.27\t,97\t,141\t,2.38\t,100]])\n",
    "test"
   ]
  },
  {
   "cell_type": "markdown",
   "metadata": {},
   "source": [
    "## 5. Randomized Search Cross-Validation: \n",
    "-  This method works by randomly sampling hyperparameter combinations from a specified distribution and evaluating the model's performance with each set of hyperparameters."
   ]
  },
  {
   "cell_type": "code",
   "execution_count": 51,
   "metadata": {},
   "outputs": [
    {
     "name": "stderr",
     "output_type": "stream",
     "text": [
      "C:\\Users\\kdat1\\AppData\\Local\\Packages\\PythonSoftwareFoundation.Python.3.12_qbz5n2kfra8p0\\LocalCache\\local-packages\\Python312\\site-packages\\sklearn\\model_selection\\_search.py:307: UserWarning: The total space of parameters 3 is smaller than n_iter=10. Running 3 iterations. For exhaustive searches, use GridSearchCV.\n",
      "  warnings.warn(\n"
     ]
    },
    {
     "name": "stdout",
     "output_type": "stream",
     "text": [
      "Precision: 92.20%\n",
      "Accuracy: 92.58%\n",
      "Recall: 92.58%\n"
     ]
    }
   ],
   "source": [
    "# Cross-validation\n",
    "# Randomized Search\n",
    "\n",
    "# Hyperparameter grid\n",
    "param_dist = {\n",
    "    'n_estimators': [50, 100, 200],\n",
    "    'max_depth': [None],\n",
    "    'min_samples_split': [2],\n",
    "    'min_samples_leaf': [1],\n",
    "    'class_weight': [None]\n",
    "}\n",
    "\n",
    "# Tạo mô hình Random Forest và huấn luyện nó\n",
    "rf_model = RandomForestClassifier(random_state=44)\n",
    "random_search = RandomizedSearchCV(rf_model, param_distributions=param_dist, n_iter=10, cv=5, scoring='accuracy', random_state=44)\n",
    "random_search.fit(X_train, y_train)\n",
    "\n",
    "# Chọn ra mô hình tốt nhất\n",
    "best_rf_model = random_search.best_estimator_\n",
    "\n",
    "# Dự đoán trên tập kiểm tra\n",
    "best_predictions = best_rf_model.predict(X_test)\n",
    "\n",
    "# Đánh giá mô hình\n",
    "best_precision = precision_score(y_test, best_predictions, average='weighted')\n",
    "best_accuracy = accuracy_score(y_test, best_predictions)\n",
    "best_recall = recall_score(y_test, best_predictions, average='weighted')\n",
    "\n",
    "print(f'Precision: {best_precision * 100:.2f}%')\n",
    "print(f'Accuracy: {best_accuracy * 100:.2f}%')\n",
    "print(f'Recall: {best_recall * 100:.2f}%')\n"
   ]
  },
  {
   "cell_type": "code",
   "execution_count": 49,
   "metadata": {},
   "outputs": [
    {
     "name": "stderr",
     "output_type": "stream",
     "text": [
      "C:\\Users\\kdat1\\AppData\\Local\\Packages\\PythonSoftwareFoundation.Python.3.12_qbz5n2kfra8p0\\LocalCache\\local-packages\\Python312\\site-packages\\sklearn\\base.py:465: UserWarning: X does not have valid feature names, but RandomForestClassifier was fitted with feature names\n",
      "  warnings.warn(\n"
     ]
    },
    {
     "data": {
      "text/plain": [
       "array(['Clear', 'Clear', 'Clouds', 'Clear', 'Poor weather'], dtype=object)"
      ]
     },
     "execution_count": 49,
     "metadata": {},
     "output_type": "execute_result"
    }
   ],
   "source": [
    "test = best_rf_model.predict([[ 293.16,\t53,\t10000\t,2.29,\t0],\n",
    "                         [271.08\t,62\t,10000\t,1.91,\t0],\n",
    "                         [279.33\t,58\t,10000\t,0.52\t,100],\n",
    "                         [280.77,57,10000,3.60,0],\n",
    "                         [269.27\t,97\t,141\t,2.38\t,100]])\n",
    "test"
   ]
  }
 ],
 "metadata": {
  "kernelspec": {
   "display_name": "Python 3",
   "language": "python",
   "name": "python3"
  },
  "language_info": {
   "codemirror_mode": {
    "name": "ipython",
    "version": 3
   },
   "file_extension": ".py",
   "mimetype": "text/x-python",
   "name": "python",
   "nbconvert_exporter": "python",
   "pygments_lexer": "ipython3",
   "version": "3.12.1"
  }
 },
 "nbformat": 4,
 "nbformat_minor": 2
}
