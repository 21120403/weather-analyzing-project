{
 "cells": [
  {
   "cell_type": "markdown",
   "metadata": {},
   "source": [
    "## Import"
   ]
  },
  {
   "cell_type": "code",
   "execution_count": 1,
   "metadata": {},
   "outputs": [],
   "source": [
    "import pandas as pd\n",
    "import numpy as np"
   ]
  },
  {
   "cell_type": "markdown",
   "metadata": {},
   "source": [
    "## Exploring data"
   ]
  },
  {
   "cell_type": "markdown",
   "metadata": {},
   "source": [
    "### Read raw data from file"
   ]
  },
  {
   "cell_type": "code",
   "execution_count": 2,
   "metadata": {},
   "outputs": [],
   "source": [
    "weather_df = None\n",
    "weather_df = pd.read_csv('../data/internal/weather.csv')"
   ]
  },
  {
   "cell_type": "code",
   "execution_count": 3,
   "metadata": {},
   "outputs": [],
   "source": [
    "weather_df = weather_df.drop(\"Rain\", axis='columns')"
   ]
  },
  {
   "cell_type": "code",
   "execution_count": 4,
   "metadata": {},
   "outputs": [
    {
     "data": {
      "text/html": [
       "<div>\n",
       "<style scoped>\n",
       "    .dataframe tbody tr th:only-of-type {\n",
       "        vertical-align: middle;\n",
       "    }\n",
       "\n",
       "    .dataframe tbody tr th {\n",
       "        vertical-align: top;\n",
       "    }\n",
       "\n",
       "    .dataframe thead th {\n",
       "        text-align: right;\n",
       "    }\n",
       "</style>\n",
       "<table border=\"1\" class=\"dataframe\">\n",
       "  <thead>\n",
       "    <tr style=\"text-align: right;\">\n",
       "      <th></th>\n",
       "      <th>Country</th>\n",
       "      <th>Name</th>\n",
       "      <th>Weather</th>\n",
       "      <th>Temp</th>\n",
       "      <th>Humidity</th>\n",
       "      <th>Visibility</th>\n",
       "      <th>Wind speed</th>\n",
       "      <th>Clouds</th>\n",
       "    </tr>\n",
       "  </thead>\n",
       "  <tbody>\n",
       "    <tr>\n",
       "      <th>0</th>\n",
       "      <td>JP</td>\n",
       "      <td>Tokyo</td>\n",
       "      <td>Clouds</td>\n",
       "      <td>283.30</td>\n",
       "      <td>43</td>\n",
       "      <td>10000</td>\n",
       "      <td>5.66</td>\n",
       "      <td>75</td>\n",
       "    </tr>\n",
       "    <tr>\n",
       "      <th>1</th>\n",
       "      <td>ID</td>\n",
       "      <td>Pecenongan</td>\n",
       "      <td>Clouds</td>\n",
       "      <td>299.01</td>\n",
       "      <td>86</td>\n",
       "      <td>6000</td>\n",
       "      <td>1.54</td>\n",
       "      <td>40</td>\n",
       "    </tr>\n",
       "    <tr>\n",
       "      <th>2</th>\n",
       "      <td>IN</td>\n",
       "      <td>New Delhi</td>\n",
       "      <td>Smoke</td>\n",
       "      <td>296.25</td>\n",
       "      <td>43</td>\n",
       "      <td>2200</td>\n",
       "      <td>0.00</td>\n",
       "      <td>40</td>\n",
       "    </tr>\n",
       "    <tr>\n",
       "      <th>3</th>\n",
       "      <td>CN</td>\n",
       "      <td>Guangzhou</td>\n",
       "      <td>Clear</td>\n",
       "      <td>295.07</td>\n",
       "      <td>44</td>\n",
       "      <td>10000</td>\n",
       "      <td>2.04</td>\n",
       "      <td>9</td>\n",
       "    </tr>\n",
       "    <tr>\n",
       "      <th>4</th>\n",
       "      <td>IN</td>\n",
       "      <td>Konkan Division</td>\n",
       "      <td>Smoke</td>\n",
       "      <td>304.15</td>\n",
       "      <td>62</td>\n",
       "      <td>3000</td>\n",
       "      <td>3.09</td>\n",
       "      <td>40</td>\n",
       "    </tr>\n",
       "  </tbody>\n",
       "</table>\n",
       "</div>"
      ],
      "text/plain": [
       "  Country             Name Weather    Temp  Humidity  Visibility  Wind speed  \\\n",
       "0      JP            Tokyo  Clouds  283.30        43       10000        5.66   \n",
       "1      ID       Pecenongan  Clouds  299.01        86        6000        1.54   \n",
       "2      IN        New Delhi   Smoke  296.25        43        2200        0.00   \n",
       "3      CN        Guangzhou   Clear  295.07        44       10000        2.04   \n",
       "4      IN  Konkan Division   Smoke  304.15        62        3000        3.09   \n",
       "\n",
       "   Clouds  \n",
       "0      75  \n",
       "1      40  \n",
       "2      40  \n",
       "3       9  \n",
       "4      40  "
      ]
     },
     "execution_count": 4,
     "metadata": {},
     "output_type": "execute_result"
    }
   ],
   "source": [
    "weather_df.head()"
   ]
  },
  {
   "cell_type": "markdown",
   "metadata": {},
   "source": [
    "### How many rows and how many columns does the raw data have?"
   ]
  },
  {
   "cell_type": "code",
   "execution_count": 5,
   "metadata": {},
   "outputs": [
    {
     "name": "stdout",
     "output_type": "stream",
     "text": [
      "(1001, 8)\n"
     ]
    }
   ],
   "source": [
    "shape = None \n",
    "shape = weather_df.shape\n",
    "print(shape)"
   ]
  },
  {
   "cell_type": "markdown",
   "metadata": {},
   "source": [
    "### What does each line mean?"
   ]
  },
  {
   "cell_type": "markdown",
   "metadata": {},
   "source": [
    "\n",
    "Each line contains information about the weather of a city."
   ]
  },
  {
   "cell_type": "markdown",
   "metadata": {},
   "source": [
    "### Does the raw data have duplicate rows?"
   ]
  },
  {
   "cell_type": "code",
   "execution_count": 6,
   "metadata": {},
   "outputs": [],
   "source": [
    "num_duplicated_rows = None\n",
    "num_duplicated_rows = weather_df.duplicated().sum()"
   ]
  },
  {
   "cell_type": "code",
   "execution_count": 7,
   "metadata": {},
   "outputs": [
    {
     "name": "stdout",
     "output_type": "stream",
     "text": [
      "The raw data have 1 duplicated line. Please de-deduplicate the raw data!\n"
     ]
    }
   ],
   "source": [
    "#TEST\n",
    "if num_duplicated_rows == 0:\n",
    "    print(f\"The raw data have no duplicated line!\")\n",
    "else:\n",
    "    if num_duplicated_rows > 1:\n",
    "        ext = \"lines\"\n",
    "    else:\n",
    "        ext = \"line\"\n",
    "    print(f\"The raw data have {num_duplicated_rows} duplicated \" + ext + \". Please de-deduplicate the raw data!\")"
   ]
  },
  {
   "cell_type": "code",
   "execution_count": 8,
   "metadata": {},
   "outputs": [],
   "source": [
    "#De-deduplicate the raw data\n",
    "weather_df = weather_df.drop_duplicates()"
   ]
  },
  {
   "cell_type": "code",
   "execution_count": 9,
   "metadata": {},
   "outputs": [
    {
     "name": "stdout",
     "output_type": "stream",
     "text": [
      "The raw data have no duplicated line!\n"
     ]
    }
   ],
   "source": [
    "#TEST\n",
    "num_duplicated_rows = weather_df.duplicated().sum()\n",
    "if num_duplicated_rows == 0:\n",
    "    print(f\"The raw data have no duplicated line!\")\n",
    "else:\n",
    "    if num_duplicated_rows > 1:\n",
    "        ext = \"lines\"\n",
    "    else:\n",
    "        ext = \"line\"\n",
    "    print(f\"The raw data have {num_duplicated_rows} duplicated \" + ext + \". Please de-deduplicate your raw data!\")"
   ]
  },
  {
   "cell_type": "markdown",
   "metadata": {},
   "source": [
    "### What does each column mean?"
   ]
  },
  {
   "cell_type": "markdown",
   "metadata": {},
   "source": [
    "- Country: Country ID\n",
    "- Name: City's name\n",
    "- Weather: Weather situation\n",
    "- Temp: Current temperature\n",
    "- Humidity: Current humidity\n",
    "- Visibility: Current vision\n",
    "- Wind speed: Current wind speed\n",
    "- Clouds: Cloud frequency"
   ]
  },
  {
   "cell_type": "markdown",
   "metadata": {},
   "source": [
    "### What data type does each column currently have? Are there any columns whose data types are not suitable for further processing?"
   ]
  },
  {
   "cell_type": "code",
   "execution_count": 10,
   "metadata": {},
   "outputs": [],
   "source": [
    "dtypes = None\n",
    "dtypes = weather_df.dtypes"
   ]
  },
  {
   "cell_type": "code",
   "execution_count": 11,
   "metadata": {},
   "outputs": [
    {
     "data": {
      "text/plain": [
       "Country        object\n",
       "Name           object\n",
       "Weather        object\n",
       "Temp          float64\n",
       "Humidity        int64\n",
       "Visibility      int64\n",
       "Wind speed    float64\n",
       "Clouds          int64\n",
       "dtype: object"
      ]
     },
     "execution_count": 11,
     "metadata": {},
     "output_type": "execute_result"
    }
   ],
   "source": [
    "dtypes"
   ]
  },
  {
   "cell_type": "markdown",
   "metadata": {},
   "source": [
    "There are not any columns whose data types are not suitable for further processing"
   ]
  },
  {
   "cell_type": "markdown",
   "metadata": {},
   "source": [
    "### For each column with numeric data type, how are the values distributed?"
   ]
  },
  {
   "cell_type": "code",
   "execution_count": 12,
   "metadata": {},
   "outputs": [],
   "source": [
    "num_col_info_df = None\n",
    "\n",
    "num_col_info_df = weather_df.select_dtypes(include=np.number).copy()\n",
    "\n",
    "def missing_ratio(column):\n",
    "    return ((column.isnull().sum() / column.shape[0]) * 100).round(1)\n",
    "\n",
    "def lower_quartile(column):\n",
    "    return (column.quantile(0.25)).round(1)\n",
    "\n",
    "def median(column):\n",
    "    return (column.median())\n",
    "\n",
    "def upper_quartile(column):\n",
    "    return (column.quantile(0.75)).round(1)\n",
    "\n",
    "# Làm tròn giá trị đến 1 chữ số thập phân\n",
    "num_col_info_df = num_col_info_df.round(1)\n",
    "\n",
    "num_col_info_df = num_col_info_df.agg([missing_ratio, \"min\", lower_quartile, median, upper_quartile, \"max\"])"
   ]
  },
  {
   "cell_type": "code",
   "execution_count": 13,
   "metadata": {},
   "outputs": [
    {
     "data": {
      "text/html": [
       "<div>\n",
       "<style scoped>\n",
       "    .dataframe tbody tr th:only-of-type {\n",
       "        vertical-align: middle;\n",
       "    }\n",
       "\n",
       "    .dataframe tbody tr th {\n",
       "        vertical-align: top;\n",
       "    }\n",
       "\n",
       "    .dataframe thead th {\n",
       "        text-align: right;\n",
       "    }\n",
       "</style>\n",
       "<table border=\"1\" class=\"dataframe\">\n",
       "  <thead>\n",
       "    <tr style=\"text-align: right;\">\n",
       "      <th></th>\n",
       "      <th>Temp</th>\n",
       "      <th>Humidity</th>\n",
       "      <th>Visibility</th>\n",
       "      <th>Wind speed</th>\n",
       "      <th>Clouds</th>\n",
       "    </tr>\n",
       "  </thead>\n",
       "  <tbody>\n",
       "    <tr>\n",
       "      <th>missing_ratio</th>\n",
       "      <td>0.00</td>\n",
       "      <td>0.0</td>\n",
       "      <td>0.0</td>\n",
       "      <td>0.0</td>\n",
       "      <td>0.0</td>\n",
       "    </tr>\n",
       "    <tr>\n",
       "      <th>min</th>\n",
       "      <td>253.10</td>\n",
       "      <td>8.0</td>\n",
       "      <td>121.0</td>\n",
       "      <td>0.0</td>\n",
       "      <td>0.0</td>\n",
       "    </tr>\n",
       "    <tr>\n",
       "      <th>lower_quartile</th>\n",
       "      <td>278.80</td>\n",
       "      <td>53.8</td>\n",
       "      <td>10000.0</td>\n",
       "      <td>1.5</td>\n",
       "      <td>20.0</td>\n",
       "    </tr>\n",
       "    <tr>\n",
       "      <th>median</th>\n",
       "      <td>288.65</td>\n",
       "      <td>68.0</td>\n",
       "      <td>10000.0</td>\n",
       "      <td>2.6</td>\n",
       "      <td>57.0</td>\n",
       "    </tr>\n",
       "    <tr>\n",
       "      <th>upper_quartile</th>\n",
       "      <td>297.70</td>\n",
       "      <td>81.0</td>\n",
       "      <td>10000.0</td>\n",
       "      <td>4.1</td>\n",
       "      <td>88.0</td>\n",
       "    </tr>\n",
       "    <tr>\n",
       "      <th>max</th>\n",
       "      <td>311.30</td>\n",
       "      <td>100.0</td>\n",
       "      <td>10000.0</td>\n",
       "      <td>16.0</td>\n",
       "      <td>100.0</td>\n",
       "    </tr>\n",
       "  </tbody>\n",
       "</table>\n",
       "</div>"
      ],
      "text/plain": [
       "                  Temp  Humidity  Visibility  Wind speed  Clouds\n",
       "missing_ratio     0.00       0.0         0.0         0.0     0.0\n",
       "min             253.10       8.0       121.0         0.0     0.0\n",
       "lower_quartile  278.80      53.8     10000.0         1.5    20.0\n",
       "median          288.65      68.0     10000.0         2.6    57.0\n",
       "upper_quartile  297.70      81.0     10000.0         4.1    88.0\n",
       "max             311.30     100.0     10000.0        16.0   100.0"
      ]
     },
     "execution_count": 13,
     "metadata": {},
     "output_type": "execute_result"
    }
   ],
   "source": [
    "num_col_info_df"
   ]
  },
  {
   "cell_type": "markdown",
   "metadata": {},
   "source": [
    "### Drop the column of which the percentage of missing values is greater than 75%"
   ]
  },
  {
   "cell_type": "code",
   "execution_count": 14,
   "metadata": {},
   "outputs": [],
   "source": [
    "def drop_missing_features(df: pd.DataFrame, missing_lst: dict = dict(num_col_info_df.iloc[0]), threshold: float = 75.0) -> pd.DataFrame:\n",
    "    for col, missing_rate in missing_lst.items():\n",
    "        if missing_rate > threshold:\n",
    "            del df[col]\n",
    "    return df"
   ]
  },
  {
   "cell_type": "code",
   "execution_count": 15,
   "metadata": {},
   "outputs": [],
   "source": [
    "weather_df = drop_missing_features(weather_df)"
   ]
  },
  {
   "cell_type": "code",
   "execution_count": 16,
   "metadata": {},
   "outputs": [
    {
     "data": {
      "text/html": [
       "<div>\n",
       "<style scoped>\n",
       "    .dataframe tbody tr th:only-of-type {\n",
       "        vertical-align: middle;\n",
       "    }\n",
       "\n",
       "    .dataframe tbody tr th {\n",
       "        vertical-align: top;\n",
       "    }\n",
       "\n",
       "    .dataframe thead th {\n",
       "        text-align: right;\n",
       "    }\n",
       "</style>\n",
       "<table border=\"1\" class=\"dataframe\">\n",
       "  <thead>\n",
       "    <tr style=\"text-align: right;\">\n",
       "      <th></th>\n",
       "      <th>Country</th>\n",
       "      <th>Name</th>\n",
       "      <th>Weather</th>\n",
       "      <th>Temp</th>\n",
       "      <th>Humidity</th>\n",
       "      <th>Visibility</th>\n",
       "      <th>Wind speed</th>\n",
       "      <th>Clouds</th>\n",
       "    </tr>\n",
       "  </thead>\n",
       "  <tbody>\n",
       "    <tr>\n",
       "      <th>0</th>\n",
       "      <td>JP</td>\n",
       "      <td>Tokyo</td>\n",
       "      <td>Clouds</td>\n",
       "      <td>283.30</td>\n",
       "      <td>43</td>\n",
       "      <td>10000</td>\n",
       "      <td>5.66</td>\n",
       "      <td>75</td>\n",
       "    </tr>\n",
       "    <tr>\n",
       "      <th>1</th>\n",
       "      <td>ID</td>\n",
       "      <td>Pecenongan</td>\n",
       "      <td>Clouds</td>\n",
       "      <td>299.01</td>\n",
       "      <td>86</td>\n",
       "      <td>6000</td>\n",
       "      <td>1.54</td>\n",
       "      <td>40</td>\n",
       "    </tr>\n",
       "    <tr>\n",
       "      <th>2</th>\n",
       "      <td>IN</td>\n",
       "      <td>New Delhi</td>\n",
       "      <td>Smoke</td>\n",
       "      <td>296.25</td>\n",
       "      <td>43</td>\n",
       "      <td>2200</td>\n",
       "      <td>0.00</td>\n",
       "      <td>40</td>\n",
       "    </tr>\n",
       "    <tr>\n",
       "      <th>3</th>\n",
       "      <td>CN</td>\n",
       "      <td>Guangzhou</td>\n",
       "      <td>Clear</td>\n",
       "      <td>295.07</td>\n",
       "      <td>44</td>\n",
       "      <td>10000</td>\n",
       "      <td>2.04</td>\n",
       "      <td>9</td>\n",
       "    </tr>\n",
       "    <tr>\n",
       "      <th>4</th>\n",
       "      <td>IN</td>\n",
       "      <td>Konkan Division</td>\n",
       "      <td>Smoke</td>\n",
       "      <td>304.15</td>\n",
       "      <td>62</td>\n",
       "      <td>3000</td>\n",
       "      <td>3.09</td>\n",
       "      <td>40</td>\n",
       "    </tr>\n",
       "  </tbody>\n",
       "</table>\n",
       "</div>"
      ],
      "text/plain": [
       "  Country             Name Weather    Temp  Humidity  Visibility  Wind speed  \\\n",
       "0      JP            Tokyo  Clouds  283.30        43       10000        5.66   \n",
       "1      ID       Pecenongan  Clouds  299.01        86        6000        1.54   \n",
       "2      IN        New Delhi   Smoke  296.25        43        2200        0.00   \n",
       "3      CN        Guangzhou   Clear  295.07        44       10000        2.04   \n",
       "4      IN  Konkan Division   Smoke  304.15        62        3000        3.09   \n",
       "\n",
       "   Clouds  \n",
       "0      75  \n",
       "1      40  \n",
       "2      40  \n",
       "3       9  \n",
       "4      40  "
      ]
     },
     "execution_count": 16,
     "metadata": {},
     "output_type": "execute_result"
    }
   ],
   "source": [
    "weather_df.head()"
   ]
  },
  {
   "cell_type": "markdown",
   "metadata": {},
   "source": [
    "### For each column with a non-numeric data type, how are the values distributed?"
   ]
  },
  {
   "cell_type": "code",
   "execution_count": 17,
   "metadata": {},
   "outputs": [],
   "source": [
    "pd.set_option('display.max_colwidth', 100)\n",
    "pd.set_option('display.max_columns', None)"
   ]
  },
  {
   "cell_type": "code",
   "execution_count": 18,
   "metadata": {},
   "outputs": [
    {
     "data": {
      "text/html": [
       "<div>\n",
       "<style scoped>\n",
       "    .dataframe tbody tr th:only-of-type {\n",
       "        vertical-align: middle;\n",
       "    }\n",
       "\n",
       "    .dataframe tbody tr th {\n",
       "        vertical-align: top;\n",
       "    }\n",
       "\n",
       "    .dataframe thead th {\n",
       "        text-align: right;\n",
       "    }\n",
       "</style>\n",
       "<table border=\"1\" class=\"dataframe\">\n",
       "  <thead>\n",
       "    <tr style=\"text-align: right;\">\n",
       "      <th></th>\n",
       "      <th>Country</th>\n",
       "      <th>Name</th>\n",
       "      <th>Weather</th>\n",
       "    </tr>\n",
       "  </thead>\n",
       "  <tbody>\n",
       "    <tr>\n",
       "      <th>missing_ratio</th>\n",
       "      <td>0.2</td>\n",
       "      <td>0.1</td>\n",
       "      <td>0.0</td>\n",
       "    </tr>\n",
       "    <tr>\n",
       "      <th>num_values</th>\n",
       "      <td>236</td>\n",
       "      <td>984</td>\n",
       "      <td>10</td>\n",
       "    </tr>\n",
       "    <tr>\n",
       "      <th>value_ratios</th>\n",
       "      <td>{'CN': 35.8, 'IN': 5.8, 'US': 5.5, 'BR': 2.2, 'ID': 2.0, 'MX': 1.8, 'TR': 1.7, 'RU': 1.6, 'JP': ...</td>\n",
       "      <td>{'Kowloon': 0.2, 'Huai'an': 0.2, 'George Town': 0.2, 'La Paz': 0.2, 'Kingston': 0.2, 'Comayagüel...</td>\n",
       "      <td>{'Clouds': 64.4, 'Clear': 19.6, 'Rain': 7.8, 'Haze': 2.2, 'Snow': 1.8, 'Mist': 1.5, 'Smoke': 1.2...</td>\n",
       "    </tr>\n",
       "  </tbody>\n",
       "</table>\n",
       "</div>"
      ],
      "text/plain": [
       "                                                                                                           Country  \\\n",
       "missing_ratio                                                                                                  0.2   \n",
       "num_values                                                                                                     236   \n",
       "value_ratios   {'CN': 35.8, 'IN': 5.8, 'US': 5.5, 'BR': 2.2, 'ID': 2.0, 'MX': 1.8, 'TR': 1.7, 'RU': 1.6, 'JP': ...   \n",
       "\n",
       "                                                                                                              Name  \\\n",
       "missing_ratio                                                                                                  0.1   \n",
       "num_values                                                                                                     984   \n",
       "value_ratios   {'Kowloon': 0.2, 'Huai'an': 0.2, 'George Town': 0.2, 'La Paz': 0.2, 'Kingston': 0.2, 'Comayagüel...   \n",
       "\n",
       "                                                                                                           Weather  \n",
       "missing_ratio                                                                                                  0.0  \n",
       "num_values                                                                                                      10  \n",
       "value_ratios   {'Clouds': 64.4, 'Clear': 19.6, 'Rain': 7.8, 'Haze': 2.2, 'Snow': 1.8, 'Mist': 1.5, 'Smoke': 1.2...  "
      ]
     },
     "execution_count": 18,
     "metadata": {},
     "output_type": "execute_result"
    }
   ],
   "source": [
    "cat_col_info_df = weather_df.select_dtypes(exclude=[np.number])\n",
    "\n",
    "def missing_ratio(column):\n",
    "    return ((column.isnull().sum() / column.shape[0]) * 100).round(1)\n",
    "\n",
    "# Hàm tính số lượng giá trị\n",
    "def num_values(column):\n",
    "    return column.nunique()\n",
    "\n",
    "# Hàm tính tỷ lệ của từng giá trị\n",
    "def value_ratios(column):\n",
    "    value_counts = column.value_counts() #Đếm số lượng của mỗi loại value trong 1 cột\n",
    "    non_missing_count = value_counts.sum() #Tổng số lượng của tất cả value trong 1 cột\n",
    "    ratios = (value_counts / non_missing_count * 100).round(1) #Lưu tỉ lệ vào Series\n",
    "    ratios_dict = ratios.to_dict()\n",
    "    sorted_ratios_dict = dict(sorted(ratios_dict.items(), key=lambda item: item[1], reverse=True))\n",
    "    return sorted_ratios_dict\n",
    "\n",
    "cat_col_info_df = cat_col_info_df.agg([missing_ratio, num_values, value_ratios])\n",
    "cat_col_info_df"
   ]
  },
  {
   "cell_type": "markdown",
   "metadata": {},
   "source": [
    "### Save the processed data"
   ]
  },
  {
   "cell_type": "code",
   "execution_count": 19,
   "metadata": {},
   "outputs": [
    {
     "name": "stdout",
     "output_type": "stream",
     "text": [
      "Total number of features: 8\n"
     ]
    },
    {
     "data": {
      "text/plain": [
       "Country        object\n",
       "Name           object\n",
       "Weather        object\n",
       "Temp          float64\n",
       "Humidity        int64\n",
       "Visibility      int64\n",
       "Wind speed    float64\n",
       "Clouds          int64\n",
       "dtype: object"
      ]
     },
     "execution_count": 19,
     "metadata": {},
     "output_type": "execute_result"
    }
   ],
   "source": [
    "print(f\"Total number of features: {weather_df.shape[1]}\")\n",
    "weather_df.dtypes"
   ]
  },
  {
   "cell_type": "code",
   "execution_count": 20,
   "metadata": {},
   "outputs": [],
   "source": [
    "save_name = \"weather.csv\"\n",
    "weather_df.to_csv(\"../data/internal/\" + save_name, index=False)"
   ]
  }
 ],
 "metadata": {
  "kernelspec": {
   "display_name": "Python 3 (ipykernel)",
   "language": "python",
   "name": "python3"
  },
  "language_info": {
   "codemirror_mode": {
    "name": "ipython",
    "version": 3
   },
   "file_extension": ".py",
   "mimetype": "text/x-python",
   "name": "python",
   "nbconvert_exporter": "python",
   "pygments_lexer": "ipython3",
   "version": "3.11.5"
  }
 },
 "nbformat": 4,
 "nbformat_minor": 2
}
