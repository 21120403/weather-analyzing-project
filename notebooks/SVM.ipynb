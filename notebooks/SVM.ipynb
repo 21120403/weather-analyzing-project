{
 "cells": [
  {
   "cell_type": "code",
   "execution_count": 45,
   "metadata": {},
   "outputs": [],
   "source": [
    "import pandas as pd\n",
    "from sklearn.model_selection import train_test_split\n",
    "from sklearn.preprocessing import StandardScaler\n",
    "from sklearn.svm import SVC\n",
    "from sklearn.metrics import accuracy_score,precision_score, recall_score\n",
    "from imblearn.under_sampling import RandomUnderSampler\n"
   ]
  },
  {
   "cell_type": "code",
   "execution_count": 31,
   "metadata": {},
   "outputs": [],
   "source": [
    "weather_df = pd.read_csv('../data/internal/weather.csv')"
   ]
  },
  {
   "cell_type": "code",
   "execution_count": 33,
   "metadata": {},
   "outputs": [],
   "source": [
    "weather_df = weather_df.drop(\"Country\", axis='columns')\n",
    "weather_df = weather_df.drop(\"Name\", axis='columns')"
   ]
  },
  {
   "cell_type": "code",
   "execution_count": 41,
   "metadata": {},
   "outputs": [
    {
     "data": {
      "text/html": [
       "<div>\n",
       "<style scoped>\n",
       "    .dataframe tbody tr th:only-of-type {\n",
       "        vertical-align: middle;\n",
       "    }\n",
       "\n",
       "    .dataframe tbody tr th {\n",
       "        vertical-align: top;\n",
       "    }\n",
       "\n",
       "    .dataframe thead th {\n",
       "        text-align: right;\n",
       "    }\n",
       "</style>\n",
       "<table border=\"1\" class=\"dataframe\">\n",
       "  <thead>\n",
       "    <tr style=\"text-align: right;\">\n",
       "      <th></th>\n",
       "      <th>Weather</th>\n",
       "      <th>Temp</th>\n",
       "      <th>Humidity</th>\n",
       "      <th>Visibility</th>\n",
       "      <th>Wind speed</th>\n",
       "      <th>Clouds</th>\n",
       "    </tr>\n",
       "  </thead>\n",
       "  <tbody>\n",
       "    <tr>\n",
       "      <th>17</th>\n",
       "      <td>Snow</td>\n",
       "      <td>269.27</td>\n",
       "      <td>97</td>\n",
       "      <td>141</td>\n",
       "      <td>2.38</td>\n",
       "      <td>100</td>\n",
       "    </tr>\n",
       "    <tr>\n",
       "      <th>290</th>\n",
       "      <td>Snow</td>\n",
       "      <td>274.22</td>\n",
       "      <td>94</td>\n",
       "      <td>3600</td>\n",
       "      <td>3.60</td>\n",
       "      <td>100</td>\n",
       "    </tr>\n",
       "    <tr>\n",
       "      <th>317</th>\n",
       "      <td>Snow</td>\n",
       "      <td>273.49</td>\n",
       "      <td>95</td>\n",
       "      <td>38</td>\n",
       "      <td>1.73</td>\n",
       "      <td>100</td>\n",
       "    </tr>\n",
       "    <tr>\n",
       "      <th>421</th>\n",
       "      <td>Snow</td>\n",
       "      <td>268.46</td>\n",
       "      <td>71</td>\n",
       "      <td>10000</td>\n",
       "      <td>1.71</td>\n",
       "      <td>68</td>\n",
       "    </tr>\n",
       "    <tr>\n",
       "      <th>487</th>\n",
       "      <td>Snow</td>\n",
       "      <td>270.83</td>\n",
       "      <td>93</td>\n",
       "      <td>9000</td>\n",
       "      <td>5.00</td>\n",
       "      <td>100</td>\n",
       "    </tr>\n",
       "    <tr>\n",
       "      <th>...</th>\n",
       "      <td>...</td>\n",
       "      <td>...</td>\n",
       "      <td>...</td>\n",
       "      <td>...</td>\n",
       "      <td>...</td>\n",
       "      <td>...</td>\n",
       "    </tr>\n",
       "    <tr>\n",
       "      <th>3329</th>\n",
       "      <td>Snow</td>\n",
       "      <td>273.18</td>\n",
       "      <td>92</td>\n",
       "      <td>5987</td>\n",
       "      <td>2.13</td>\n",
       "      <td>100</td>\n",
       "    </tr>\n",
       "    <tr>\n",
       "      <th>3354</th>\n",
       "      <td>Snow</td>\n",
       "      <td>273.14</td>\n",
       "      <td>93</td>\n",
       "      <td>4644</td>\n",
       "      <td>0.45</td>\n",
       "      <td>100</td>\n",
       "    </tr>\n",
       "    <tr>\n",
       "      <th>3395</th>\n",
       "      <td>Snow</td>\n",
       "      <td>272.51</td>\n",
       "      <td>41</td>\n",
       "      <td>10000</td>\n",
       "      <td>1.34</td>\n",
       "      <td>99</td>\n",
       "    </tr>\n",
       "    <tr>\n",
       "      <th>3402</th>\n",
       "      <td>Snow</td>\n",
       "      <td>274.56</td>\n",
       "      <td>78</td>\n",
       "      <td>10000</td>\n",
       "      <td>7.72</td>\n",
       "      <td>100</td>\n",
       "    </tr>\n",
       "    <tr>\n",
       "      <th>3498</th>\n",
       "      <td>Snow</td>\n",
       "      <td>274.57</td>\n",
       "      <td>91</td>\n",
       "      <td>2600</td>\n",
       "      <td>1.03</td>\n",
       "      <td>100</td>\n",
       "    </tr>\n",
       "  </tbody>\n",
       "</table>\n",
       "<p>64 rows × 6 columns</p>\n",
       "</div>"
      ],
      "text/plain": [
       "     Weather    Temp  Humidity  Visibility  Wind speed  Clouds\n",
       "17      Snow  269.27        97         141        2.38     100\n",
       "290     Snow  274.22        94        3600        3.60     100\n",
       "317     Snow  273.49        95          38        1.73     100\n",
       "421     Snow  268.46        71       10000        1.71      68\n",
       "487     Snow  270.83        93        9000        5.00     100\n",
       "...      ...     ...       ...         ...         ...     ...\n",
       "3329    Snow  273.18        92        5987        2.13     100\n",
       "3354    Snow  273.14        93        4644        0.45     100\n",
       "3395    Snow  272.51        41       10000        1.34      99\n",
       "3402    Snow  274.56        78       10000        7.72     100\n",
       "3498    Snow  274.57        91        2600        1.03     100\n",
       "\n",
       "[64 rows x 6 columns]"
      ]
     },
     "execution_count": 41,
     "metadata": {},
     "output_type": "execute_result"
    }
   ],
   "source": [
    "weather_df[weather_df[\"Weather\"]  == \"Snow\"]"
   ]
  },
  {
   "cell_type": "code",
   "execution_count": 54,
   "metadata": {},
   "outputs": [
    {
     "name": "stdout",
     "output_type": "stream",
     "text": [
      "Độ chính xác của mô hình là: 87.89%\n"
     ]
    }
   ],
   "source": [
    "\n",
    "\n",
    "# Lấy các feature và nhãn\n",
    "features = weather_df[['Temp', 'Humidity', 'Visibility', 'Wind speed', 'Clouds']]\n",
    "labels = weather_df['Weather']\n",
    "\n",
    "# Chia dữ liệu thành tập huấn luyện và tập kiểm tra\n",
    "X_train, X_test, y_train, y_test = train_test_split(features, labels, test_size=0.2, random_state=42)\n",
    "\n",
    "\n",
    "# Tạo mô hình SVM và huấn luyện nó\n",
    "svm_model = SVC(kernel='linear')  # Chọn kernel tùy thuộc vào dữ liệu của bạn\n",
    "svm_model.fit(X_train, y_train)\n",
    "\n",
    "# Dự đoán trên tập kiểm tra\n",
    "predictions = svm_model.predict(X_test)\n",
    "\n",
    "# Đánh giá mô hình\n",
    "accuracy = accuracy_score(y_test, predictions)\n",
    "print(f'Độ chính xác của mô hình là: {accuracy * 100:.2f}%')"
   ]
  },
  {
   "cell_type": "code",
   "execution_count": 70,
   "metadata": {},
   "outputs": [
    {
     "name": "stderr",
     "output_type": "stream",
     "text": [
      "C:\\Users\\User\\AppData\\Local\\Packages\\PythonSoftwareFoundation.Python.3.11_qbz5n2kfra8p0\\LocalCache\\local-packages\\Python311\\site-packages\\sklearn\\base.py:465: UserWarning: X does not have valid feature names, but SVC was fitted with feature names\n",
      "  warnings.warn(\n"
     ]
    }
   ],
   "source": [
    "test = svm_model.predict([[ 271.99  ,  93    ,  7000  ,      3.09   ,  100],\n",
    "                         [285.26,56\t,10000,4.12,0],\n",
    "                         [293.25,83,1500,0.00,0],\n",
    "                         [280.77,57,10000,3.60,0],\n",
    "                         [269.27\t,97\t,141\t,2.38\t,100]])"
   ]
  },
  {
   "cell_type": "code",
   "execution_count": 71,
   "metadata": {},
   "outputs": [
    {
     "data": {
      "text/plain": [
       "array(['Clouds', 'Clear', 'Mist', 'Clear', 'Snow'], dtype=object)"
      ]
     },
     "execution_count": 71,
     "metadata": {},
     "output_type": "execute_result"
    }
   ],
   "source": [
    "test"
   ]
  }
 ],
 "metadata": {
  "kernelspec": {
   "display_name": "Python 3",
   "language": "python",
   "name": "python3"
  },
  "language_info": {
   "codemirror_mode": {
    "name": "ipython",
    "version": 3
   },
   "file_extension": ".py",
   "mimetype": "text/x-python",
   "name": "python",
   "nbconvert_exporter": "python",
   "pygments_lexer": "ipython3",
   "version": "3.11.5"
  }
 },
 "nbformat": 4,
 "nbformat_minor": 2
}
