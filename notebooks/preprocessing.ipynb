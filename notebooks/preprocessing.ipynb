{
 "cells": [
  {
   "cell_type": "code",
   "execution_count": 28,
   "metadata": {},
   "outputs": [],
   "source": [
    "import pandas as pd"
   ]
  },
  {
   "cell_type": "code",
   "execution_count": 29,
   "metadata": {},
   "outputs": [],
   "source": [
    "weather_df = pd.read_csv('../data/internal/weather.csv')"
   ]
  },
  {
   "cell_type": "code",
   "execution_count": 30,
   "metadata": {},
   "outputs": [],
   "source": [
    "weather_df = weather_df.drop(\"Rain\", axis='columns')\n"
   ]
  },
  {
   "cell_type": "code",
   "execution_count": 31,
   "metadata": {},
   "outputs": [
    {
     "name": "stdout",
     "output_type": "stream",
     "text": [
      "  Country             Name Weather    Temp  Humidity  Visibility  Wind speed  \\\n",
      "0      JP            Tokyo   Clear  280.77        57       10000        3.60   \n",
      "1      ID       Pecenongan    Haze  298.99        83        6000        2.06   \n",
      "2      IN        New Delhi    Mist  293.25        83        1500        0.00   \n",
      "3      CN        Guangzhou  Clouds  288.07        47       10000        5.16   \n",
      "4      IN  Konkan Division    Mist  300.18        83        2200        3.09   \n",
      "\n",
      "   Clouds  \n",
      "0       0  \n",
      "1      20  \n",
      "2       0  \n",
      "3      27  \n",
      "4      20  \n"
     ]
    }
   ],
   "source": [
    "print(weather_df.head())"
   ]
  },
  {
   "cell_type": "code",
   "execution_count": 32,
   "metadata": {},
   "outputs": [
    {
     "name": "stdout",
     "output_type": "stream",
     "text": [
      "1000\n"
     ]
    }
   ],
   "source": [
    "print(len(weather_df[weather_df[\"Weather\"] == \"Clear\"]))"
   ]
  }
 ],
 "metadata": {
  "kernelspec": {
   "display_name": "Python 3",
   "language": "python",
   "name": "python3"
  },
  "language_info": {
   "codemirror_mode": {
    "name": "ipython",
    "version": 3
   },
   "file_extension": ".py",
   "mimetype": "text/x-python",
   "name": "python",
   "nbconvert_exporter": "python",
   "pygments_lexer": "ipython3",
   "version": "3.11.5"
  }
 },
 "nbformat": 4,
 "nbformat_minor": 2
}
